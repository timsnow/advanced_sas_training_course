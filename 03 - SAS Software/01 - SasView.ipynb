{
 "cells": [
  {
   "cell_type": "markdown",
   "id": "7ef3d350",
   "metadata": {},
   "source": [
    "# Workbook 1 - Data Fitting using sasmodels\n",
    "\n",
    "As previously, let's set up our environment first."
   ]
  },
  {
   "cell_type": "code",
   "execution_count": 1,
   "id": "1d05ba92",
   "metadata": {},
   "outputs": [],
   "source": [
    "!pip install bumps\n",
    "!pip install numpy\n",
    "!pip install sasmodels\n",
    "!pip install matplotlib\n",
    "\n",
    "!git clone https://github.com/timsnow/advanced_sas_training_course\n",
    "%cd 'advanced_sas_training_course/03 - SAS Software'"
   ]
  },
  {
   "cell_type": "markdown",
   "id": "3b1ba3a8",
   "metadata": {},
   "source": [
    "The first step is to import some packages for use in this script - the last one of which has been customly written for this training course."
   ]
  },
  {
   "cell_type": "code",
   "execution_count": 2,
   "id": "a6993f02",
   "metadata": {},
   "outputs": [],
   "source": [
    "from numpy import loadtxt\n",
    "from matplotlib import pyplot as plt\n",
    "from DataFitter1D import DataFitter1D"
   ]
  },
  {
   "cell_type": "markdown",
   "id": "74a6688a",
   "metadata": {},
   "source": [
    "Then, as before, we shall use `numpy`s `loadtxt()` function to load some pre-exising data into the script and format it such that we subsequently have access to the `x_data` and `y_data` as arrays."
   ]
  },
  {
   "cell_type": "code",
   "execution_count": 3,
   "id": "05480437",
   "metadata": {},
   "outputs": [],
   "source": [
    "overall_data = loadtxt('data/CylinderData1D.dat')\n",
    "x_data = overall_data[:,0]\n",
    "y_data = overall_data[:,1]"
   ]
  },
  {
   "cell_type": "markdown",
   "id": "8aa7f210",
   "metadata": {},
   "source": [
    "Then we can instanciate the DataFitter1D class and pass it the data:"
   ]
  },
  {
   "cell_type": "code",
   "execution_count": 4,
   "id": "332bc07f",
   "metadata": {},
   "outputs": [
    {
     "name": "stderr",
     "output_type": "stream",
     "text": [
      "2021-06-02 14:57:44,501 - sasmodels - WARNING - No dq data given (dx). Uncertainties of 5 % have been added.\n",
      "2021-06-02 14:57:44,502 - sasmodels - WARNING - No intensity uncertainties provided (dy). Uncertainties of 5 % have been added.\n"
     ]
    }
   ],
   "source": [
    "dataFitter = DataFitter1D()\n",
    "dataFitter.loadData(xData = x_data, yData = y_data)\n"
   ]
  },
  {
   "cell_type": "markdown",
   "id": "532af42e",
   "metadata": {},
   "source": [
    "Note that this class has *logging* - it's passing us some warnings about our data as we haven't supplied any uncertainty data for either our *q* dataset (the `x_axis`) or the *I* dataset (the `y_axis`). \n",
    "\n",
    "However, for the benefit of the fitting engine a 5% uncertainty has been added on our behalf; to prevent this from being added we *really* should pass the DataFitter1D class some uncertaintites...\n",
    "\n",
    "Next up, we load in some starting fitting parameters using the `parameterParserFromTextFile()` function:"
   ]
  },
  {
   "cell_type": "code",
   "execution_count": 5,
   "id": "b2f0e1c5",
   "metadata": {},
   "outputs": [],
   "source": [
    "dataFitter.parameterParserFromTextFile(\"parameters/fit_parameters.txt\")"
   ]
  },
  {
   "cell_type": "markdown",
   "id": "583804f6",
   "metadata": {},
   "source": [
    "As we can see by opening the text file in questions this appears to be a comma separated dictionary!\n",
    "\n",
    "Naturally, creating this by hand is going to be a *pain*, luckily we can create these in SasView and then use either the 'Save Params to File' option in the 'Edit' menu.\n",
    "\n",
    "However; that's not all. There's also a 'Copy Params' option in the 'Edit' menu which is turns out we can use as well by making use of the `parameterParserFromString()` function."
   ]
  },
  {
   "cell_type": "code",
   "execution_count": 6,
   "id": "1870f726",
   "metadata": {},
   "outputs": [],
   "source": [
    "dataFitter.parameterParserFromString(\"sasview_parameter_values:model_name,cylinder:scale,False,1.0,None,0.0,inf,():background,False,0.001,None,-inf,inf,():sld,False,4,None,-inf,inf,():sld_solvent,False,1,None,-inf,inf,():radius,True,10,None,1.0,50.0,():length,True,400,None,1.0,2000.0,():is_data,False:tab_index,1:is_batch_fitting,False:data_name,[]:data_id,[]:tab_name,M1:q_range_min,0.0005:q_range_max,0.5:q_weighting,0:weighting,0:smearing,0:smearing_min,None:smearing_max,None:polydisperse_params,False:magnetic_params,False:chainfit_params,False:2D_params,False:fitpage_category,Cylinder:fitpage_model,cylinder:fitpage_structure,None:\")"
   ]
  },
  {
   "cell_type": "markdown",
   "id": "221c429a",
   "metadata": {},
   "source": [
    "With both a dataset loaded *and* some initial parameters loaded we can now fit the data:"
   ]
  },
  {
   "cell_type": "code",
   "execution_count": 7,
   "id": "ad39fa91",
   "metadata": {},
   "outputs": [],
   "source": [
    "dataFitter.fitData()"
   ]
  },
  {
   "cell_type": "markdown",
   "id": "eca32a75",
   "metadata": {},
   "source": [
    "Now that we've fitted the data we can plot it using `matplotlib`"
   ]
  },
  {
   "cell_type": "code",
   "execution_count": 8,
   "id": "3678323c",
   "metadata": {},
   "outputs": [
    {
     "data": {
      "image/png": "[encoded data removed]",
      "text/plain": [
       "<Figure size 432x288 with 1 Axes>"
      ]
     },
     "metadata": {
      "needs_background": "light"
     },
     "output_type": "display_data"
    }
   ],
   "source": [
    "plt.plot(x_data, y_data)\n",
    "plt.plot(dataFitter.dataHolder.x, dataFitter.fittingProblem.fitness.theory())\n",
    "plt.yscale('log')\n",
    "plt.show()"
   ]
  },
  {
   "cell_type": "markdown",
   "id": "79449a5a",
   "metadata": {},
   "source": [
    "However, whereas we can see that the fit is good - unlike lmfit we don't have a `fit_report()` function with the DataFitter1D class. So, we shall have to do a bit of legwork in order to extract that information out and either print it to the console or add it to the plot (we shall do the latter):"
   ]
  },
  {
   "cell_type": "code",
   "execution_count": 9,
   "id": "30f94069",
   "metadata": {},
   "outputs": [],
   "source": [
    "modelType = dataFitter.fittingProblem.fitness.model.sasmodel.info.id.capitalize()\n",
    "modelRadius = \"{:.2f}\".format(dataFitter.fittingProblem.fitness.model.radius.value)\n",
    "modelLength = \"{:.2f}\".format(dataFitter.fittingProblem.fitness.model.length.value)"
   ]
  },
  {
   "cell_type": "markdown",
   "id": "301627e2",
   "metadata": {},
   "source": [
    "The above is a bit dense so let's go through it line by line:\n",
    "\n",
    " - modelType - Within the fittingProblem there's a sasmodel ID for the model fitted which we can extract by navigating to the ID; we are then calling the capitalize() function on this string to capitalise the first letter of the string\n",
    " - modelRadius - Within the fittingProblem we can retrieve the radius by navigating to its location, the `\"{:.2f}\".format()` function formats the floating point number that is obtained into a string form of the number accurate to *2* decimal places\n",
    " - modelLength - Similarly, we can retrieve the length by navigating to its location and the formatting the number into a string accurate to *2* decimal places\n",
    "  \n",
    "Now we can take this information and add it to the plot's title so that we have some information about the fit performed:"
   ]
  },
  {
   "cell_type": "code",
   "execution_count": 10,
   "id": "d37759e6",
   "metadata": {},
   "outputs": [
    {
     "data": {
      "image/png": "[encoded data removed]",
      "text/plain": [
       "<Figure size 432x288 with 1 Axes>"
      ]
     },
     "metadata": {
      "needs_background": "light"
     },
     "output_type": "display_data"
    }
   ],
   "source": [
    "plt.figure(\"Fitted Data Plot\")\n",
    "plt.title(r\"Fitted length = \" + (modelLength) + \" Å | Fitted radius = \" + modelRadius + \" Å\\n\" + modelType + \" model\")\n",
    "\n",
    "plt.plot(x_data, y_data)\n",
    "plt.plot(dataFitter.dataHolder.x, dataFitter.fittingProblem.fitness.theory())\n",
    "plt.yscale('log')\n",
    "plt.show()"
   ]
  },
  {
   "cell_type": "markdown",
   "id": "878950c4",
   "metadata": {},
   "source": [
    "Equally well, we could iterate through the items in dataFitter.fittingProblem.fitness.model and print these out one by one as a fitting report."
   ]
  },
  {
   "cell_type": "code",
   "execution_count": 13,
   "id": "7b1e54d4",
   "metadata": {},
   "outputs": [
    {
     "name": "stdout",
     "output_type": "stream",
     "text": [
      "Fitting report for Cylinder\n",
      "scale: 1.0\n",
      "background: 0.001\n",
      "sld: 4.0\n",
      "sld_solvent: 1.0\n",
      "radius: 20.299289412387246\n",
      "radius_pd: 0.0\n",
      "radius_pd_n: 35.0\n",
      "radius_pd_nsigma: 3.0\n",
      "length: 1316.2615446691434\n",
      "length_pd: 0.0\n",
      "length_pd_n: 35.0\n",
      "length_pd_nsigma: 3.0\n",
      "theta: 60\n",
      "theta_pd: 0.0\n",
      "theta_pd_n: 35.0\n",
      "theta_pd_nsigma: 3.0\n",
      "phi: 60\n",
      "phi_pd: 0.0\n",
      "phi_pd_n: 35.0\n",
      "phi_pd_nsigma: 3.0\n",
      "up_frac_i: 0.0\n",
      "up_frac_f: 0.0\n",
      "up_angle: 0.0\n",
      "sld_M0: 0.0\n",
      "sld_mtheta: 0.0\n",
      "sld_mphi: 0.0\n",
      "sld_solvent_M0: 0.0\n",
      "sld_solvent_mtheta: 0.0\n",
      "sld_solvent_mphi: 0.0\n"
     ]
    }
   ],
   "source": [
    "print('Fitting report for ' + dataFitter.fittingProblem.fitness.model.sasmodel.info.id.capitalize())\n",
    "for key, value in dataFitter.fittingProblem.fitness.model.parameters().items():\n",
    "    print(key + ': ' + str(value.value))"
   ]
  },
  {
   "cell_type": "markdown",
   "id": "0f1258d5",
   "metadata": {},
   "source": [
    "## Further reading\n",
    "\n",
    " - [sasmodels package](https://www.sasview.org/docs/dev/sasmodels-api/sasmodels.html)\n",
    "    \n",
    " - [sasmodels model reference guide](https://www.sasview.org/docs/dev/sasmodels-api/modules.html)"
   ]
  }
 ],
 "metadata": {
  "kernelspec": {
   "display_name": "Python 3",
   "language": "python",
   "name": "python3"
  },
  "language_info": {
   "codemirror_mode": {
    "name": "ipython",
    "version": 3
   },
   "file_extension": ".py",
   "mimetype": "text/x-python",
   "name": "python",
   "nbconvert_exporter": "python",
   "pygments_lexer": "ipython3",
   "version": "3.8.5"
  }
 },
 "nbformat": 4,
 "nbformat_minor": 5
}

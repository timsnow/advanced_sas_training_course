{
 "cells": [
  {
   "cell_type": "markdown",
   "id": "9a315e67",
   "metadata": {},
   "source": [
    "# Workbook 3 - Exercises and Answers\n",
    "\n",
    "As previously, let's set up our environment first:"
   ]
  },
  {
   "cell_type": "code",
   "execution_count": null,
   "id": "41bee698",
   "metadata": {},
   "outputs": [],
   "source": [
    "!pip install bumps\n",
    "!pip install numpy\n",
    "!pip install sasmodels\n",
    "!pip install matplotlib\n",
    "\n",
    "!git clone https://github.com/timsnow/advanced_sas_training_course\n",
    "%cd 'advanced_sas_training_course/03 - SAS Software'"
   ]
  },
  {
   "cell_type": "markdown",
   "id": "997e88e5",
   "metadata": {},
   "source": [
    "Now for the imports:"
   ]
  },
  {
   "cell_type": "code",
   "execution_count": null,
   "id": "ee23d6ed",
   "metadata": {},
   "outputs": [],
   "source": [
    "from numpy import loadtxt\n",
    "from matplotlib import pyplot as plt\n",
    "from DataFitter1D import DataFitter1D"
   ]
  },
  {
   "cell_type": "markdown",
   "id": "daa60af3",
   "metadata": {},
   "source": [
    "And let's provide a few starting hints"
   ]
  },
  {
   "cell_type": "code",
   "execution_count": null,
   "id": "3b7e387a",
   "metadata": {},
   "outputs": [],
   "source": [
    "data_location = 'data/CylinderData1D.dat'\n",
    "parameter_location = 'parameters/fit_parameters.txt'\n",
    "parameter_string = 'sasview_parameter_values:model_name,cylinder:scale,False,1.0,None,0.0,inf,():background,False,0.001,None,-inf,inf,():sld,False,4,None,-inf,inf,():sld_solvent,False,1,None,-inf,inf,():radius,True,10,None,1.0,50.0,():length,True,400,None,1.0,2000.0,():is_data,False:tab_index,1:is_batch_fitting,False:data_name,[]:data_id,[]:tab_name,M1:q_range_min,0.0005:q_range_max,0.5:q_weighting,0:weighting,0:smearing,0:smearing_min,None:smearing_max,None:polydisperse_params,False:magnetic_params,False:chainfit_params,False:2D_params,False:fitpage_category,Cylinder:fitpage_model,cylinder:fitpage_structure,None:'\n",
    "data_fitter = DataFitter1D()"
   ]
  },
  {
   "cell_type": "markdown",
   "id": "8a65cc06",
   "metadata": {},
   "source": [
    "Load in the `x` and `y` data from the `CylinderData1D.dat` file and then load this into the `data_fitter` object:"
   ]
  },
  {
   "cell_type": "code",
   "execution_count": null,
   "id": "6c4ae912",
   "metadata": {},
   "outputs": [],
   "source": [
    "overall_data = loadtxt('data/CylinderData1D.dat')\n",
    "x_data = overall_data[:,0]\n",
    "y_data = overall_data[:,1]\n",
    "\n",
    "dataFitter = DataFitter1D()\n",
    "dataFitter.loadData(xData = x_data, yData = y_data)"
   ]
  },
  {
   "cell_type": "markdown",
   "id": "7ff9e2a7",
   "metadata": {},
   "source": [
    "Now, using your choice of either the fit parameters file, or the fit parameters string, load the fitting parameters into the `data_fitter` object:"
   ]
  },
  {
   "cell_type": "code",
   "execution_count": null,
   "id": "a1f87146",
   "metadata": {},
   "outputs": [],
   "source": [
    "dataFitter.parameterParserFromTextFile('parameters/fit_parameters.txt')\n",
    "\n",
    "# Or\n",
    "\n",
    "dataFitter.parameterParserFromString('sasview_parameter_values:model_name,cylinder:scale,False,1.0,None,0.0,inf,():background,False,0.001,None,-inf,inf,():sld,False,4,None,-inf,inf,():sld_solvent,False,1,None,-inf,inf,():radius,True,10,None,1.0,50.0,():length,True,400,None,1.0,2000.0,():is_data,False:tab_index,1:is_batch_fitting,False:data_name,[]:data_id,[]:tab_name,M1:q_range_min,0.0005:q_range_max,0.5:q_weighting,0:weighting,0:smearing,0:smearing_min,None:smearing_max,None:polydisperse_params,False:magnetic_params,False:chainfit_params,False:2D_params,False:fitpage_category,Cylinder:fitpage_model,cylinder:fitpage_structure,None:')"
   ]
  },
  {
   "cell_type": "markdown",
   "id": "7cb05758",
   "metadata": {},
   "source": [
    "Fit and plot the data:"
   ]
  },
  {
   "cell_type": "code",
   "execution_count": null,
   "id": "de8d0424",
   "metadata": {},
   "outputs": [],
   "source": [
    "dataFitter.fitData()\n",
    "\n",
    "plt.plot(x_data, y_data)\n",
    "plt.plot(dataFitter.dataHolder.x, dataFitter.fittingProblem.fitness.theory())\n",
    "plt.yscale('log')\n",
    "plt.show()"
   ]
  },
  {
   "cell_type": "markdown",
   "id": "61131c9c",
   "metadata": {},
   "source": [
    "Either append key fitting parameters on to a plot or print out a fitting report:"
   ]
  },
  {
   "cell_type": "code",
   "execution_count": null,
   "id": "9201939f",
   "metadata": {},
   "outputs": [],
   "source": [
    "modelType = dataFitter.fittingProblem.fitness.model.sasmodel.info.id.capitalize()\n",
    "modelRadius = '{:.2f}'.format(dataFitter.fittingProblem.fitness.model.radius.value)\n",
    "modelLength = '{:.2f}'.format(dataFitter.fittingProblem.fitness.model.length.value)\n",
    "plt.figure('Fitted Data Plot')\n",
    "plt.title(r'Fitted length = ' + (modelLength) + ' Å | Fitted radius = ' + modelRadius + ' Å\\n' + modelType + ' model')\n",
    "plt.plot(x_data, y_data)\n",
    "plt.plot(dataFitter.dataHolder.x, dataFitter.fittingProblem.fitness.theory())\n",
    "plt.yscale('log')\n",
    "plt.show()\n",
    "\n",
    "# Or\n",
    "\n",
    "print('Fitting report for ' + dataFitter.fittingProblem.fitness.model.sasmodel.info.id.capitalize())\n",
    "for key, value in dataFitter.fittingProblem.fitness.model.parameters().items():\n",
    "    print(key + ': ' + str(value.value))"
   ]
  },
  {
   "cell_type": "markdown",
   "id": "7f1d236c",
   "metadata": {},
   "source": [
    "Now, encapsulate the code above into a single function definition that's able to take both input data and fitting parameters \n",
    "\n",
    "*e.g.* def my_great_fit_function(data_file, fitting_parameters):"
   ]
  },
  {
   "cell_type": "code",
   "execution_count": null,
   "id": "5f78eb90",
   "metadata": {},
   "outputs": [],
   "source": [
    "def fit_and_report_function(data_file_path, parameter_file_path):\n",
    "    dataFitter = DataFitter1D()\n",
    "    overall_data = loadtxt(data_file_path)\n",
    "    x_data = overall_data[:,0]\n",
    "    y_data = overall_data[:,1]\n",
    "    dataFitter.loadData(xData = x_data, yData = y_data)\n",
    "    dataFitter.parameterParserFromTextFile(parameter_file_path)\n",
    "    dataFitter.fitData()\n",
    "    modelType = dataFitter.fittingProblem.fitness.model.sasmodel.info.id.capitalize()\n",
    "    modelRadius = '{:.2f}'.format(dataFitter.fittingProblem.fitness.model.radius.value)\n",
    "    modelLength = '{:.2f}'.format(dataFitter.fittingProblem.fitness.model.length.value)\n",
    "    plt.figure('Fitted Data Plot')\n",
    "    plt.title(r'Fitted length = ' + (modelLength) + ' Å | Fitted radius = ' + modelRadius + ' Å\\n' + modelType + ' model')\n",
    "    plt.plot(x_data, y_data)\n",
    "    plt.plot(dataFitter.dataHolder.x, dataFitter.fittingProblem.fitness.theory())\n",
    "    plt.yscale('log')\n",
    "    plt.show()\n",
    "    \n",
    "    print('Fitting report for ' + dataFitter.fittingProblem.fitness.model.sasmodel.info.id.capitalize())\n",
    "    for key, value in dataFitter.fittingProblem.fitness.model.parameters().items():\n",
    "        print(key + ': ' + str(value.value))"
   ]
  },
  {
   "cell_type": "markdown",
   "id": "d1e43a40",
   "metadata": {},
   "source": [
    "Create a list of inputs (use a `for` loop to append the same file name and fitting parameters *n* times) and then iterate over this list to perform fits on this dataset *n* times\n",
    "\n",
    "**Hint:** lists can be lists of lists: [[..., ...], [..., ...], ...]"
   ]
  },
  {
   "cell_type": "code",
   "execution_count": null,
   "id": "1778ea8a",
   "metadata": {},
   "outputs": [],
   "source": [
    "small_list = ['data/CylinderData1D.dat', 'parameters/fit_parameters.txt']\n",
    "bigger_list = []\n",
    "for iteration in range(10):\n",
    "    bigger_list.append(small_list)"
   ]
  },
  {
   "cell_type": "code",
   "execution_count": null,
   "id": "7646cb4f",
   "metadata": {},
   "outputs": [],
   "source": [
    "for sub_entry in bigger_list:\n",
    "    fit_and_report_function(sub_entry[0], sub_entry[1])"
   ]
  }
 ],
 "metadata": {
  "kernelspec": {
   "display_name": "Python 3",
   "language": "python",
   "name": "python3"
  },
  "language_info": {
   "codemirror_mode": {
    "name": "ipython",
    "version": 3
   },
   "file_extension": ".py",
   "mimetype": "text/x-python",
   "name": "python",
   "nbconvert_exporter": "python",
   "pygments_lexer": "ipython3",
   "version": "3.8.5"
  }
 },
 "nbformat": 4,
 "nbformat_minor": 5
}

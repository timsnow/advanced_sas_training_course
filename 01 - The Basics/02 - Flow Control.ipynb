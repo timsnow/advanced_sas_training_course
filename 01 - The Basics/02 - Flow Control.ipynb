{
 "cells": [
  {
   "cell_type": "markdown",
   "id": "e6d57245",
   "metadata": {},
   "source": [
    "# Workbook 2 - Flow Control\n",
    "\n",
    "Now that we know about the different types of data that we can work with, how can we ask the computer to do specific things with it?\n",
    "\n",
    "In a linear script we simply write out a list of things that we want the computer to achieve and, one by one, it will do them.\n",
    "\n",
    "This is great if we only want to do *n* things, in sequence, and then stop. It's less useful if we want to do more complex things such as take interactive inputs, make decisions or loop over items. One can achieve certain things by excessive use of copy-and-paste, however, making alterations later on quickly becomes painful and laborious.\n",
    "\n",
    "So, instead we use a set of *flow controls*. A flow control is a built-in mechanism that allows you to control how a program proceeds, or flows.\n"
   ]
  },
  {
   "cell_type": "markdown",
   "id": "0ab193b5",
   "metadata": {},
   "source": [
    "## The `if` statement\n",
    "\n",
    "If we wish to make a decision based on a yes/no success criterion, or a series of yes/no criteria, we can use an `if` statement. For example if one wished to print a statement to the console if an integer variable was greater than three then we would write the following:"
   ]
  },
  {
   "cell_type": "code",
   "execution_count": null,
   "id": "1a1567da",
   "metadata": {},
   "outputs": [],
   "source": [
    "integer_variable = 4\n",
    "\n",
    "if integer_variable > 3:\n",
    "    print('The variable is greater than three!')"
   ]
  },
  {
   "cell_type": "markdown",
   "id": "9eb6b2f0",
   "metadata": {},
   "source": [
    "Here, we have set the integer variable's value to 4 and therefore we see the statement 'The variable is greater than three!' printed back at us.\n",
    "\n",
    "However, there's more that we can achieve using the if statement: we can also add in an `else` statement. This will be executed if the if statement evaluation fails:"
   ]
  },
  {
   "cell_type": "code",
   "execution_count": null,
   "id": "9e2c5eec",
   "metadata": {},
   "outputs": [],
   "source": [
    "integer_variable = 2\n",
    "\n",
    "if integer_variable > 3:\n",
    "    print('The variable is greater than three!')\n",
    "else:\n",
    "    print('The variable is lesser than three!')"
   ]
  },
  {
   "cell_type": "markdown",
   "id": "13b504d5",
   "metadata": {},
   "source": [
    "It's also possible to perform many evaluations, with or without an *else* satement, using `elif` statements:"
   ]
  },
  {
   "cell_type": "code",
   "execution_count": null,
   "id": "61d49653",
   "metadata": {},
   "outputs": [],
   "source": [
    "integer_variable = 6\n",
    "\n",
    "if integer_variable > 4:\n",
    "    print('The variable is greater than four!')\n",
    "elif integer_variable == 3:\n",
    "    print('The variable is equal to three!')\n",
    "else:\n",
    "    print('The variable is lesser than three!')"
   ]
  },
  {
   "cell_type": "markdown",
   "id": "f256da79",
   "metadata": {},
   "source": [
    "Note in the above example that if you're trying to assess whether a variable is exactly equal to a condition that you must use the double equals sign, not just a single equals sign.\n",
    "\n",
    "*For reference*: Some programming languages have a construct called a `switch` statement which is, in essence, a long list of `elif`s that allow for a quick lookup against a number of criteria. Python does not have this flow control mechanism by default only if, elif and else."
   ]
  },
  {
   "cell_type": "markdown",
   "id": "6688a3d6",
   "metadata": {},
   "source": [
    "## Functions\n",
    "\n",
    "Directly taking the above code, if I wished to check two values then I'd have to copy and paste the code in order to check against two variables, *e.g.*:"
   ]
  },
  {
   "cell_type": "code",
   "execution_count": null,
   "id": "d6419b1f",
   "metadata": {},
   "outputs": [],
   "source": [
    "integer_variable_one = 6\n",
    "\n",
    "if integer_variable_one > 4:\n",
    "    print('The variable is greater than four!')\n",
    "elif integer_variable_one == 3:\n",
    "    print('The variable is equal to three!')\n",
    "else:\n",
    "    print('The variable is lesser than three!')\n",
    "    \n",
    "integer_variable_two = 3\n",
    "\n",
    "if integer_variable_two > 4:\n",
    "    print('The variable is greater than four!')\n",
    "elif integer_variable_two == 3:\n",
    "    print('The variable is equal to three!')\n",
    "else:\n",
    "    print('The variable is lesser than three!')"
   ]
  },
  {
   "cell_type": "markdown",
   "id": "caa7f229",
   "metadata": {},
   "source": [
    "Except - wait - I had two *different* variables so I needed to copy-and-paste as well as change the if statement's variable name that it's checking against. Now, this is only for two variables; what if I wanted to perform this check against two million variables (say I wanted to create a threshold mask for a detector) - this clearly won't scale.\n",
    "\n",
    "To use the same if statement time and time again we can create a *function* which takes the form:"
   ]
  },
  {
   "cell_type": "code",
   "execution_count": null,
   "id": "2dfc7415",
   "metadata": {},
   "outputs": [],
   "source": [
    "def variable_evaluator(variable_to_evaluate):\n",
    "    if variable_to_evaluate > 4:\n",
    "        print('The variable is greater than four!')\n",
    "    elif variable_to_evaluate == 3:\n",
    "        print('The variable is equal to three!')\n",
    "    else:\n",
    "        print('The variable is lesser than three!')"
   ]
  },
  {
   "cell_type": "markdown",
   "id": "6ca39e3b",
   "metadata": {},
   "source": [
    "The first part of the function contains the keyword `def` which tells Python we're going to define a function, next up is the name of the function which here is `variable_evaluator` as this function will... evaluate variables. \n",
    "\n",
    "Note, the code within the function is required to be indented - unlike in other languages Python *requires* indentation within classes, functions and loops. Failing to indent code will result in errors and/or *interesting* behaviour.\n",
    "\n",
    "Finally, within the brackets are the variables that the function will need in order to operate, these names are internal to the function meaning we can do the following and the function will proceed:"
   ]
  },
  {
   "cell_type": "code",
   "execution_count": null,
   "id": "dc45350f",
   "metadata": {},
   "outputs": [],
   "source": [
    "variable_evaluator(3)"
   ]
  },
  {
   "cell_type": "code",
   "execution_count": null,
   "id": "4591829c",
   "metadata": {},
   "outputs": [],
   "source": [
    "integer_variable = 4\n",
    "variable_evaluator(integer_variable)"
   ]
  },
  {
   "cell_type": "markdown",
   "id": "b7b824fe",
   "metadata": {},
   "source": [
    "Oh, looks like there's a mistake here: 4 isn't less than 3. To sort this out we'll need to re-define the function with the correct evaluation criterion!"
   ]
  },
  {
   "cell_type": "code",
   "execution_count": null,
   "id": "4847f107",
   "metadata": {},
   "outputs": [],
   "source": [
    "def variable_evaluator(variable_to_evaluate):\n",
    "    if variable_to_evaluate > 3:\n",
    "        print('The variable is greater than, or equal to, four!')\n",
    "    elif variable_to_evaluate == 3:\n",
    "        print('The variable is equal to three!')\n",
    "    else:\n",
    "        print('The variable is lesser than three!')"
   ]
  },
  {
   "cell_type": "code",
   "execution_count": null,
   "id": "ae78d270",
   "metadata": {},
   "outputs": [],
   "source": [
    "integer_variable = 4\n",
    "variable_evaluator(integer_variable)"
   ]
  },
  {
   "cell_type": "markdown",
   "id": "a3275dad",
   "metadata": {},
   "source": [
    "Luckily this is a function otherwise I'd have to go back through *every* copy-and-pasted instance of this check and change it!\n",
    "\n",
    "Finally, it is important to know that functions can `return` variables. Say that we want to perform a mathematical manipulation on an incoming variable and pass this result back into our code, such as `n * 3` using the `return` keyword we can achieve this thusly:"
   ]
  },
  {
   "cell_type": "code",
   "execution_count": null,
   "id": "d3bdf2f6",
   "metadata": {},
   "outputs": [],
   "source": [
    "def multiply_by_three(incoming_variable):\n",
    "    bigger_variable = incoming_variable * 3\n",
    "    return bigger_variable"
   ]
  },
  {
   "cell_type": "code",
   "execution_count": null,
   "id": "c019ac68",
   "metadata": {},
   "outputs": [],
   "source": [
    "function_output = multiply_by_three(3)\n",
    "\n",
    "print(function_output)"
   ]
  },
  {
   "cell_type": "markdown",
   "id": "9522ba7f",
   "metadata": {},
   "source": [
    "This example could be shortened - we could omit the temporary variable and just have `return incoming_variable * 3` within the function - however, let's not start running too fast just yet..."
   ]
  },
  {
   "cell_type": "markdown",
   "id": "845fdddd",
   "metadata": {},
   "source": [
    "## Loops\n",
    "\n",
    "Now we've got a fragment of code that we can use time and time again, what if we wanted to check a sequence of numbers or iterate over a list of numbers we've already got?\n",
    "\n",
    "### `for` loops\n",
    "To do this we can use a `for` loop:"
   ]
  },
  {
   "cell_type": "code",
   "execution_count": null,
   "id": "dcec51f7",
   "metadata": {},
   "outputs": [],
   "source": [
    "for loop_iteration_integer in [0, 1, 2, 3, 4, 5]:\n",
    "    variable_evaluator(loop_iteration_integer)"
   ]
  },
  {
   "cell_type": "markdown",
   "id": "bb2efeb6",
   "metadata": {},
   "source": [
    "In the above example we've asked Python to evaluate the numbers 0, 1, 2, 3, 4 & 5 using our `variable_evaluator` function. \n",
    "\n",
    "To do this we first use the `for` keyword as, *for* every variable *in* some 'variable container', we'd like to run the code that we've subsequently indented.\n",
    "\n",
    "It's also worth noting that we've explicitly declared a list here but we could have pre-delared the list, used a non-sequential list or used the `range` function.\n",
    "\n",
    "### The `range` function\n",
    "\n",
    "`range(start, stop, step)`\n",
    "\n",
    "The range function is a neat way of asking for a linear set of integers for use, in amongst other things, loops. The range function requires a stop value (it will automatically start from zero counting up in units of one) but can also take a start and step value, *e.g.*:"
   ]
  },
  {
   "cell_type": "code",
   "execution_count": null,
   "id": "dfc4f834",
   "metadata": {},
   "outputs": [],
   "source": [
    "for range_variable in range(5):\n",
    "    print(range_variable)"
   ]
  },
  {
   "cell_type": "code",
   "execution_count": null,
   "id": "be3d2002",
   "metadata": {},
   "outputs": [],
   "source": [
    "for range_variable in range(5, 10):\n",
    "    print(range_variable)"
   ]
  },
  {
   "cell_type": "code",
   "execution_count": null,
   "id": "b72e063a",
   "metadata": {},
   "outputs": [],
   "source": [
    "for range_variable in range(50, 100, 10):\n",
    "    print(range_variable)"
   ]
  },
  {
   "cell_type": "markdown",
   "id": "f4972ec6",
   "metadata": {},
   "source": [
    "**Note** the range variable gives you a list *starting* at the value you ask for but *ends* one before you might expect..."
   ]
  },
  {
   "cell_type": "markdown",
   "id": "a959b2dc",
   "metadata": {},
   "source": [
    "### Dictionaries and `for` loops\n",
    "\n",
    "Dictionaries and loops are a bit special because they are `key : value` pairs not just a single variable at each index. Using a `for` loop on a dictionary will provide the keys which you can then use as you might expect:"
   ]
  },
  {
   "cell_type": "code",
   "execution_count": null,
   "id": "9086edf5",
   "metadata": {},
   "outputs": [],
   "source": [
    "key_value_pair_dictionary = {'key' : 'value', 'key_two' : 3.141}"
   ]
  },
  {
   "cell_type": "code",
   "execution_count": null,
   "id": "732b3892",
   "metadata": {},
   "outputs": [],
   "source": [
    "for key in key_value_pair_dictionary:\n",
    "    print(key)\n",
    "    print(key_value_pair_dictionary[key])"
   ]
  },
  {
   "cell_type": "markdown",
   "id": "5cc086bc",
   "metadata": {},
   "source": [
    "However, a common programming 'pattern' to use is to use the dictionary's `items()` function. This returns a pair, or 'tuple' of values. Judicious use of the **mighty comma** allows us to let the current iteration within the `for` loop know we're expecting more than one value to come from the object that we're iterating over."
   ]
  },
  {
   "cell_type": "code",
   "execution_count": null,
   "id": "502e5f32",
   "metadata": {},
   "outputs": [],
   "source": [
    "for key, value in key_value_pair_dictionary.items():\n",
    "    print(key)\n",
    "    print(value)"
   ]
  },
  {
   "cell_type": "markdown",
   "id": "8caf1f6e",
   "metadata": {},
   "source": [
    "## `while` loops\n",
    "\n",
    "What if we're waiting for something? \n",
    "\n",
    "What if we'd like to repeatedly check *something* until something happens or keeping doing *something* until you're ready to proceed. In this case we can use a `while` loop:"
   ]
  },
  {
   "cell_type": "code",
   "execution_count": null,
   "id": "a8be8a41",
   "metadata": {},
   "outputs": [],
   "source": [
    "keep_going = True\n",
    "\n",
    "while keep_going == True:\n",
    "    print('Around the loop we go!')\n",
    "    keep_going = False"
   ]
  },
  {
   "cell_type": "markdown",
   "id": "91a8a5a6",
   "metadata": {},
   "source": [
    "In the above example we set up a boolean to start with and then the `while` keyword performs an evaluation in the same fashion an `if` statement would. From here we print out a message to let us know we've run the loop before changing the boolean's value.\n",
    "\n",
    "On the next loop around the `while` keyword sees that `keep_going` is no longer `True` and so we `break` out of the loop and can move on to the next piece of code."
   ]
  },
  {
   "cell_type": "markdown",
   "id": "ae0250b5",
   "metadata": {},
   "source": [
    "## `match` statements\n",
    "\n",
    "What if we performantly want to check a variable against multiple possible values?\n",
    "\n",
    "In other languages such flow control is called a `switch` statement, in Python it's called `match`."
   ]
  },
  {
   "cell_type": "code",
   "execution_count": null,
   "id": "66c29c8c",
   "metadata": {},
   "outputs": [],
   "source": [
    "import datetime\n",
    "today = datetime.date.today()\n",
    "\n",
    "match today.weekday():\n",
    "    case 0:\n",
    "        print(\"Today is Sunday\")\n",
    "    case 1:\n",
    "        print(\"Today is Monday\")\n",
    "    case 2:\n",
    "        print(\"Today is Tuesday\")\n",
    "    case 3:\n",
    "        print(\"Today is Wednesday\")\n",
    "    case 4:\n",
    "        print(\"Today is Thursday\")\n",
    "    case 5:\n",
    "        print(\"Today is Friday\")\n",
    "    case 6:\n",
    "        print(\"Today is Saturday\")\n",
    "    case _:\n",
    "        print(\"Today is a day I don't know\")"
   ]
  },
  {
   "cell_type": "markdown",
   "id": "1fb9627b",
   "metadata": {},
   "source": [
    "## Further reading\n",
    "\n",
    "When using loops there are also other keywords that can be used in Python such as `break`, `continue` and `pass` whilst you may be able to guess what they do more information can be found here: [More Control Flow Tools](https://docs.python.org/3/tutorial/controlflow.html)"
   ]
  }
 ],
 "metadata": {
  "kernelspec": {
   "display_name": "dev",
   "language": "python",
   "name": "python3"
  },
  "language_info": {
   "codemirror_mode": {
    "name": "ipython",
    "version": 3
   },
   "file_extension": ".py",
   "mimetype": "text/x-python",
   "name": "python",
   "nbconvert_exporter": "python",
   "pygments_lexer": "ipython3",
   "version": "3.12.2"
  }
 },
 "nbformat": 4,
 "nbformat_minor": 5
}

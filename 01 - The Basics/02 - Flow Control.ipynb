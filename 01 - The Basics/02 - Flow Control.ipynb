{
 "cells": [
  {
   "cell_type": "markdown",
   "id": "24e10cd9",
   "metadata": {},
   "source": [
    "# Workbook 2 - Flow Control\n",
    "\n",
    "Now that we know about the different types of data that we can work with, how can we ask the computer to do specific things with it?\n",
    "\n",
    "In a linear script we simply write out a list of things that we want the computer to achieve and, one by one, it will do them.\n",
    "\n",
    "This is great if we only want to do *n* things, in sequence, and then stop. It's less useful if we want to do more complex things such as take interactive inputs, make decisions or loop over items. One can achieve certain things by excessive use of copy-and-paste, however, making alterations later on quickly becomes painful and laborious.\n",
    "\n",
    "So, instead we use a set of *flow controls*. A flow control is a built-in mechanism that allows you to control how a program proceeds, or flows.\n"
   ]
  },
  {
   "cell_type": "markdown",
   "id": "32d29128",
   "metadata": {},
   "source": [
    "## The `if` statement\n",
    "\n",
    "If we wish to make a decision based on a yes/no success criterion, or a series of yes/no criteria, we can use an `if` statement. For example if one wished to print a statement to the console if an integer variable was greater than three then we would write the following:"
   ]
  },
  {
   "cell_type": "code",
   "execution_count": null,
   "id": "54fa2462",
   "metadata": {},
   "outputs": [],
   "source": [
    "integer_variable = 4\n",
    "\n",
    "if integer_variable > 3:\n",
    "    print('The variable is greater than three!')"
   ]
  },
  {
   "cell_type": "markdown",
   "id": "271790d1",
   "metadata": {},
   "source": [
    "Here, we have set the integer variable's value to 4 and therefore we see the statement 'The variable is greater than three!' printed back at us.\n",
    "\n",
    "However, there's more that we can achieve using the if statement: we can also add in an `else` statement. This will be executed if the if statement evaluation fails:"
   ]
  },
  {
   "cell_type": "code",
   "execution_count": null,
   "id": "61bcca84",
   "metadata": {},
   "outputs": [],
   "source": [
    "integer_variable = 2\n",
    "\n",
    "if integer_variable > 3:\n",
    "    print('The variable is greater than three!')\n",
    "else:\n",
    "    print('The variable is lesser than three!')"
   ]
  },
  {
   "cell_type": "markdown",
   "id": "962c938d",
   "metadata": {},
   "source": [
    "It's also possible to perform many evaluations, with or without an *else* satement, using `elif` statements:"
   ]
  },
  {
   "cell_type": "code",
   "execution_count": null,
   "id": "9b4e5da1",
   "metadata": {},
   "outputs": [],
   "source": [
    "integer_variable = 6\n",
    "\n",
    "if integer_variable > 4:\n",
    "    print('The variable is greater than four!')\n",
    "elif integer_variable == 3:\n",
    "    print('The variable is equal to three!')\n",
    "else:\n",
    "    print('The variable is lesser than three!')"
   ]
  },
  {
   "cell_type": "markdown",
   "id": "17774368",
   "metadata": {},
   "source": [
    "Note in the above example that if you're trying to assess whether a variable is exactly equal to a condition that you must use the double equals sign, not just a single equals sign.\n",
    "\n",
    "*For reference*: Some programming languages have a construct called a `switch` statement which is, in essence, a long list of `elif`s that allow for a quick lookup against a number of criteria. Python does not have this flow control mechanism by default only if, elif and else."
   ]
  },
  {
   "cell_type": "markdown",
   "id": "cb86aedb",
   "metadata": {},
   "source": [
    "## Functions\n",
    "\n",
    "Directly taking the above code, if I wished to check two values then I'd have to copy and paste the code in order to check against two variables, *e.g.*:"
   ]
  },
  {
   "cell_type": "code",
   "execution_count": null,
   "id": "ff64bb1a",
   "metadata": {},
   "outputs": [],
   "source": [
    "integer_variable_one = 6\n",
    "\n",
    "if integer_variable_one > 4:\n",
    "    print('The variable is greater than four!')\n",
    "elif integer_variable_one == 3:\n",
    "    print('The variable is equal to three!')\n",
    "else:\n",
    "    print('The variable is lesser than three!')\n",
    "    \n",
    "integer_variable_two = 3\n",
    "\n",
    "if integer_variable_two > 4:\n",
    "    print('The variable is greater than four!')\n",
    "elif integer_variable_two == 3:\n",
    "    print('The variable is equal to three!')\n",
    "else:\n",
    "    print('The variable is lesser than three!')"
   ]
  },
  {
   "cell_type": "markdown",
   "id": "0ce4f010",
   "metadata": {},
   "source": [
    "Except - wait - I had two *different* variables so I needed to copy-and-paste as well as change the if statement's variable name that it's checking against. Now, this is only for two variables; what if I wanted to perform this check against two million variables (say I wanted to create a threshold mask for a detector) - this clearly won't scale.\n",
    "\n",
    "To use the same if statement time and time again we can create a *function* which takes the form:"
   ]
  },
  {
   "cell_type": "code",
   "execution_count": null,
   "id": "49a8dcc5",
   "metadata": {},
   "outputs": [],
   "source": [
    "def variable_evaluator(variable_to_evaluate):\n",
    "    if variable_to_evaluate > 4:\n",
    "        print('The variable is greater than four!')\n",
    "    elif variable_to_evaluate == 3:\n",
    "        print('The variable is equal to three!')\n",
    "    else:\n",
    "        print('The variable is lesser than three!')"
   ]
  },
  {
   "cell_type": "markdown",
   "id": "69c7df21",
   "metadata": {},
   "source": [
    "The first part of the function contains the keyword `def` which tells Python we're going to define a function, next up is the name of the function which here is `variable_evaluator` as this function will... evaluate variables. \n",
    "\n",
    "Note, the code within the function is required to be indented - unlike in other languages Python *requires* indentation within classes, functions and loops. Failing to indent code will result in errors and/or *interesting* behaviour.\n",
    "\n",
    "Finally, within the brackets are the variables that the function will need in order to operate, these names are internal to the function meaning we can do the following and the function will proceed:"
   ]
  },
  {
   "cell_type": "code",
   "execution_count": null,
   "id": "e712b2f0",
   "metadata": {},
   "outputs": [],
   "source": [
    "variable_evaluator(3)"
   ]
  },
  {
   "cell_type": "code",
   "execution_count": null,
   "id": "18903b7a",
   "metadata": {},
   "outputs": [],
   "source": [
    "integer_variable = 4\n",
    "variable_evaluator(integer_variable)"
   ]
  },
  {
   "cell_type": "markdown",
   "id": "81166ef0",
   "metadata": {},
   "source": [
    "Oh, looks like there's a mistake here: 4 isn't less than 3. To sort this out we'll need to re-define the function with the correct evaluation criterion!"
   ]
  },
  {
   "cell_type": "code",
   "execution_count": null,
   "id": "3610b8cc",
   "metadata": {},
   "outputs": [],
   "source": [
    "def variable_evaluator(variable_to_evaluate):\n",
    "    if variable_to_evaluate > 3:\n",
    "        print('The variable is greater than, or equal to, four!')\n",
    "    elif variable_to_evaluate == 3:\n",
    "        print('The variable is equal to three!')\n",
    "    else:\n",
    "        print('The variable is lesser than three!')"
   ]
  },
  {
   "cell_type": "code",
   "execution_count": null,
   "id": "1315a733",
   "metadata": {},
   "outputs": [],
   "source": [
    "integer_variable = 4\n",
    "variable_evaluator(integer_variable)"
   ]
  },
  {
   "cell_type": "markdown",
   "id": "52b90513",
   "metadata": {},
   "source": [
    "Luckily this is a function otherwise I'd have to go back through *every* copy-and-pasted instance of this check and change it!"
   ]
  },
  {
   "cell_type": "markdown",
   "id": "70e772d3",
   "metadata": {},
   "source": [
    "## Loops\n",
    "\n",
    "Now we've got a fragment of code that we can use time and time again, what if we wanted to check a sequence of numbers or iterate over a list of numbers we've already got?\n",
    "\n",
    "### `for` loops\n",
    "To do this we can use a `for` loop:"
   ]
  },
  {
   "cell_type": "code",
   "execution_count": null,
   "id": "a2b1947c",
   "metadata": {},
   "outputs": [],
   "source": [
    "for loop_iteration_integer in [0, 1, 2, 3, 4, 5]:\n",
    "    variable_evaluator(loop_iteration_integer)"
   ]
  },
  {
   "cell_type": "markdown",
   "id": "9f1409a3",
   "metadata": {},
   "source": [
    "In the above example we've asked Python to evaluate the numbers 0, 1, 2, 3, 4 & 5 using our `variable_evaluator` function. \n",
    "\n",
    "To do this we first use the `for` keyword as, *for* every variable *in* some 'variable container', we'd like to run the code that we've subsequently indented.\n",
    "\n",
    "It's also worth noting that we've explicitly declared a list here but we could have pre-delared the list, used a non-sequential list or used the `range` function.\n",
    "\n",
    "### The `range` function\n",
    "\n",
    "`range(start, stop, step)`\n",
    "\n",
    "The range function is a neat way of asking for a linear set of integers for use, in amongst other things, loops. The range function requires a stop value (it will automatically start from zero counting up in units of one) but can also take a start and step value, *e.g.*:"
   ]
  },
  {
   "cell_type": "code",
   "execution_count": null,
   "id": "a669f5fc",
   "metadata": {},
   "outputs": [],
   "source": [
    "for range_variable in range(5):\n",
    "    print(range_variable)"
   ]
  },
  {
   "cell_type": "code",
   "execution_count": null,
   "id": "1d16f4bc",
   "metadata": {},
   "outputs": [],
   "source": [
    "for range_variable in range(5, 10):\n",
    "    print(range_variable)"
   ]
  },
  {
   "cell_type": "code",
   "execution_count": null,
   "id": "130424c2",
   "metadata": {},
   "outputs": [],
   "source": [
    "for range_variable in range(50, 100, 10):\n",
    "    print(range_variable)"
   ]
  },
  {
   "cell_type": "markdown",
   "id": "df3448b6",
   "metadata": {},
   "source": [
    "**Note** the range variable gives you a list *starting* at the value you ask for but *ends* one before you might expect..."
   ]
  },
  {
   "cell_type": "markdown",
   "id": "c0db60f5",
   "metadata": {},
   "source": [
    "## `while` loops\n",
    "\n",
    "What if we're waiting for something? \n",
    "\n",
    "What if we'd like to repeatedly check *something* until something happens or keeping doing *something* until you're ready to proceed. In this case we can use a `while` loop:"
   ]
  },
  {
   "cell_type": "code",
   "execution_count": null,
   "id": "58c6b022",
   "metadata": {},
   "outputs": [],
   "source": [
    "keep_going = True\n",
    "\n",
    "while keep_going == True:\n",
    "    print('Around the loop we go!')\n",
    "    keep_going = False"
   ]
  },
  {
   "cell_type": "markdown",
   "id": "6873257e",
   "metadata": {},
   "source": [
    "In the above example we set up a boolean to start with and then the `while` keyword performs an evaluation in the same fashion an `if` statement would. From here we print out a message to let us know we've run the loop before changing the boolean's value.\n",
    "\n",
    "On the next loop around the `while` keyword sees that `keep_going` is no longer `True` and so we `break` out of the loop and can move on to the next piece of code."
   ]
  },
  {
   "cell_type": "markdown",
   "id": "fa5242da",
   "metadata": {},
   "source": [
    "### Further reading\n",
    "\n",
    "When using loops there are also other keywords that can be used in Python such as `break`, `continue` and `pass` whilst you may be able to guess what they do more information can be found here: [More Control Flow Tools](https://docs.python.org/3/tutorial/controlflow.html)"
   ]
  },
  {
   "cell_type": "code",
   "execution_count": null,
   "id": "f3fcfa1a",
   "metadata": {},
   "outputs": [],
   "source": []
  },
  {
   "cell_type": "code",
   "execution_count": null,
   "id": "ec0d7c40",
   "metadata": {},
   "outputs": [],
   "source": []
  },
  {
   "cell_type": "code",
   "execution_count": null,
   "id": "579214ae",
   "metadata": {},
   "outputs": [],
   "source": []
  },
  {
   "cell_type": "code",
   "execution_count": null,
   "id": "980ef9a5",
   "metadata": {},
   "outputs": [],
   "source": []
  },
  {
   "cell_type": "code",
   "execution_count": null,
   "id": "bba4df87",
   "metadata": {},
   "outputs": [],
   "source": []
  },
  {
   "cell_type": "code",
   "execution_count": null,
   "id": "276715ba",
   "metadata": {},
   "outputs": [],
   "source": []
  }
 ],
 "metadata": {
  "kernelspec": {
   "display_name": "Python 3",
   "language": "python",
   "name": "python3"
  },
  "language_info": {
   "codemirror_mode": {
    "name": "ipython",
    "version": 3
   },
   "file_extension": ".py",
   "mimetype": "text/x-python",
   "name": "python",
   "nbconvert_exporter": "python",
   "pygments_lexer": "ipython3",
   "version": "3.8.5"
  }
 },
 "nbformat": 4,
 "nbformat_minor": 5
}

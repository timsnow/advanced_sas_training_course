{
 "cells": [
  {
   "cell_type": "markdown",
   "id": "9d255a20",
   "metadata": {},
   "source": [
    "Create a variable with a type of `int` and print confirmation of this to the console:"
   ]
  },
  {
   "cell_type": "code",
   "execution_count": null,
   "id": "41fc48f5",
   "metadata": {},
   "outputs": [],
   "source": []
  },
  {
   "cell_type": "markdown",
   "id": "9c29ecd4",
   "metadata": {},
   "source": [
    "Create a list with 10 elements within it and print the value of one element to the console:"
   ]
  },
  {
   "cell_type": "code",
   "execution_count": null,
   "id": "dae11fb3",
   "metadata": {},
   "outputs": [],
   "source": []
  },
  {
   "cell_type": "code",
   "execution_count": null,
   "id": "ebef0e73",
   "metadata": {},
   "outputs": [],
   "source": []
  },
  {
   "cell_type": "markdown",
   "id": "7988bc11",
   "metadata": {},
   "source": [
    "Using the same list, take a subset (or a downsampled subset) of the information within it and print this to the console:"
   ]
  },
  {
   "cell_type": "code",
   "execution_count": null,
   "id": "d1cf2f7c",
   "metadata": {},
   "outputs": [],
   "source": []
  },
  {
   "cell_type": "markdown",
   "id": "78577091",
   "metadata": {},
   "source": [
    "Import the `math` library and get help on the `degrees` function:"
   ]
  },
  {
   "cell_type": "code",
   "execution_count": null,
   "id": "507decd6",
   "metadata": {},
   "outputs": [],
   "source": []
  },
  {
   "cell_type": "markdown",
   "id": "473e5e04",
   "metadata": {},
   "source": [
    "Use this function to convert an angle, in radians, to an angle in degrees:"
   ]
  },
  {
   "cell_type": "code",
   "execution_count": null,
   "id": "15e571ef",
   "metadata": {},
   "outputs": [],
   "source": []
  },
  {
   "cell_type": "markdown",
   "id": "d427dbd2",
   "metadata": {},
   "source": [
    "Create your own function to convert an angle, in degrees, to an angle in radians (keeping in mind that 180 degrees = pi, or 3.141..., radians):"
   ]
  },
  {
   "cell_type": "code",
   "execution_count": null,
   "id": "a5202660",
   "metadata": {},
   "outputs": [],
   "source": []
  },
  {
   "cell_type": "markdown",
   "id": "d5cb0174",
   "metadata": {},
   "source": [
    "Use a `for` loop to either print, or create a list (for printing), of angular values, in radians, for angles within a range of 0 to 360 degrees. \n",
    "\n",
    "Feel free to address the whole 0-360 degree range, a subset of this range, or a downsampled subset of this range:"
   ]
  },
  {
   "cell_type": "code",
   "execution_count": null,
   "id": "9d8af05d",
   "metadata": {},
   "outputs": [],
   "source": []
  },
  {
   "cell_type": "markdown",
   "id": "1098e712",
   "metadata": {},
   "source": [
    "Run the below cell to create a dictionary:"
   ]
  },
  {
   "cell_type": "code",
   "execution_count": 3,
   "id": "ca0a6257",
   "metadata": {},
   "outputs": [],
   "source": [
    "cheeses = {'Jarlsberg' : '11.58', 'Emmental' : 8.00, 'Gruyere' : '15.00', 'Raclette' : '22.50', 'Reblochon' : 12.50, 'Cantal' : 22.50}"
   ]
  },
  {
   "cell_type": "markdown",
   "id": "22295aaf",
   "metadata": {},
   "source": [
    "Now, I like a good cheese *but* my bank account has strong opinons on this, so, to avoid bankrupcy, I've written a Python program which has scoured the internet for the best prices on some choice cheeses.\n",
    "\n",
    "As the internet is a wild place, I've managed to get prices for all my cheeses but I fear that some are `strings` rather than all being nice `integer` or `floating-point` numbers.\n",
    "\n",
    "What I'd like to do is to iterate over the list in a `for` loop and, for each cheese, perform a check against the price using an `if` statement. \n",
    "\n",
    "If the price is less than £15.00 per kilo I'll be able to buy that and I should probably flag that up printing back both the cheese and the price.\n",
    "\n",
    "If it's is more than £15.00 per kilo I'm not able to buy that and, to avoid depressing myself about the high price of cheese, I should probably flag that up printing back cheese's name but not it's price.\n",
    "\n",
    "Finally, should a cheese cost *exactly* £15.00 per kilo that's right on the edge of affordability so I'd like to flag up that cheese with a reminder that I can only pick one of the cheese"
   ]
  },
  {
   "cell_type": "code",
   "execution_count": null,
   "id": "e18797b9",
   "metadata": {},
   "outputs": [],
   "source": []
  },
  {
   "cell_type": "code",
   "execution_count": null,
   "id": "fd6a577f",
   "metadata": {},
   "outputs": [],
   "source": []
  }
 ],
 "metadata": {
  "kernelspec": {
   "display_name": "Python 3",
   "language": "python",
   "name": "python3"
  },
  "language_info": {
   "codemirror_mode": {
    "name": "ipython",
    "version": 3
   },
   "file_extension": ".py",
   "mimetype": "text/x-python",
   "name": "python",
   "nbconvert_exporter": "python",
   "pygments_lexer": "ipython3",
   "version": "3.8.5"
  }
 },
 "nbformat": 4,
 "nbformat_minor": 5
}

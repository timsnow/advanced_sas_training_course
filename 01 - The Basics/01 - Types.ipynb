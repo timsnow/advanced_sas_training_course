{
  "nbformat": 4,
  "nbformat_minor": 0,
  "metadata": {
    "colab": {
      "name": "Untitled0.ipynb",
      "provenance": [],
      "collapsed_sections": []
    },
    "kernelspec": {
      "name": "python3",
      "display_name": "Python 3"
    },
    "language_info": {
      "name": "python"
    }
  },
  "cells": [
    {
      "cell_type": "markdown",
      "metadata": {
        "id": "LYpLTJxrT39e"
      },
      "source": [
        "*Workbook 1 - The Basics*"
      ]
    },
    {
      "cell_type": "code",
      "metadata": {
        "colab": {
          "base_uri": "https://localhost:8080/"
        },
        "id": "onAKcGluT2dw",
        "outputId": "86bf1394-ce6d-4a9c-c200-78e1a908526f"
      },
      "source": [
        "variable = 3\n",
        "type(variable)"
      ],
      "execution_count": 4,
      "outputs": [
        {
          "output_type": "execute_result",
          "data": {
            "text/plain": [
              "int"
            ]
          },
          "metadata": {
            "tags": []
          },
          "execution_count": 4
        }
      ]
    },
    {
      "cell_type": "code",
      "metadata": {
        "colab": {
          "base_uri": "https://localhost:8080/"
        },
        "id": "20yM7S2gUW4c",
        "outputId": "f50d3f8f-d79f-4ce2-978f-5a8830b43383"
      },
      "source": [
        "variable = 3.141\n",
        "type(variable)"
      ],
      "execution_count": 3,
      "outputs": [
        {
          "output_type": "execute_result",
          "data": {
            "text/plain": [
              "float"
            ]
          },
          "metadata": {
            "tags": []
          },
          "execution_count": 3
        }
      ]
    },
    {
      "cell_type": "code",
      "metadata": {
        "colab": {
          "base_uri": "https://localhost:8080/"
        },
        "id": "gPwxsFFJUgle",
        "outputId": "445e9330-1094-463c-950c-601c7e6f649d"
      },
      "source": [
        "variable = 'text'\n",
        "type(variable)"
      ],
      "execution_count": 5,
      "outputs": [
        {
          "output_type": "execute_result",
          "data": {
            "text/plain": [
              "str"
            ]
          },
          "metadata": {
            "tags": []
          },
          "execution_count": 5
        }
      ]
    },
    {
      "cell_type": "code",
      "metadata": {
        "colab": {
          "base_uri": "https://localhost:8080/"
        },
        "id": "Osl2r2xmUkgf",
        "outputId": "1b61605e-4c14-4fcb-d51e-b1211a2960f3"
      },
      "source": [
        "variables = ['text', 'more text', 'even more text']\n",
        "type(variables)"
      ],
      "execution_count": 6,
      "outputs": [
        {
          "output_type": "execute_result",
          "data": {
            "text/plain": [
              "list"
            ]
          },
          "metadata": {
            "tags": []
          },
          "execution_count": 6
        }
      ]
    },
    {
      "cell_type": "code",
      "metadata": {
        "colab": {
          "base_uri": "https://localhost:8080/"
        },
        "id": "airRxJIUUufJ",
        "outputId": "1e774d52-7508-49d9-bb06-6c228f2666da"
      },
      "source": [
        "variables = {'key' : 'value', 'key_two' : 3.141}\n",
        "type(variables)"
      ],
      "execution_count": 8,
      "outputs": [
        {
          "output_type": "execute_result",
          "data": {
            "text/plain": [
              "dict"
            ]
          },
          "metadata": {
            "tags": []
          },
          "execution_count": 8
        }
      ]
    }
  ]
}
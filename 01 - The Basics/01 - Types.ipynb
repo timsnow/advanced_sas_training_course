{
 "cells": [
  {
   "cell_type": "markdown",
   "metadata": {
    "id": "LYpLTJxrT39e"
   },
   "source": [
    "# Workbook 1 - Types\n",
    "\n",
    "In programming, variables have *types* associated with them. Here we shall explore a few of these and what this means for everyday programming.\n",
    "\n"
   ]
  },
  {
   "cell_type": "markdown",
   "metadata": {},
   "source": [
    "## Assigning variables values\n",
    "\n",
    "Before going over variable *types* let's go over what a variable is and how to assign a value to one:"
   ]
  },
  {
   "cell_type": "code",
   "execution_count": null,
   "metadata": {},
   "outputs": [],
   "source": [
    "variable = 'value'"
   ]
  },
  {
   "cell_type": "markdown",
   "metadata": {},
   "source": [
    "In Python assigning a value to a variable is as simple as writing the above. In this case the variable we have created has been assigned the value of 'value', we can retrieve this value either by entering this into the interpreter"
   ]
  },
  {
   "cell_type": "code",
   "execution_count": null,
   "metadata": {},
   "outputs": [],
   "source": [
    "variable"
   ]
  },
  {
   "cell_type": "markdown",
   "metadata": {},
   "source": [
    "or by letting a Python method (or command) act upon the variable. Here we will use the *print()* command to print out the value of the variable to the *console*"
   ]
  },
  {
   "cell_type": "code",
   "execution_count": null,
   "metadata": {},
   "outputs": [],
   "source": [
    "print(variable)"
   ]
  },
  {
   "cell_type": "markdown",
   "metadata": {},
   "source": [
    "for now we shall omit as to why a programmer may pick the latter method to display a variable's value when running a program, however, the use of *print()* is likely to be the mechanism you commonly adopt."
   ]
  },
  {
   "cell_type": "markdown",
   "metadata": {},
   "source": [
    "## Types\n",
    "\n",
    "Now that we know how to assign variables values, let us look at the *type()* method. Simply put, entering in *type(variable)* will let you know what type of data is being held by the variable.\n",
    "\n",
    "There are quite a few different types of data that can be stored within a variable, however, the most common are:"
   ]
  },
  {
   "cell_type": "markdown",
   "metadata": {},
   "source": [
    "### The integer\n",
    "\n",
    "A whole number"
   ]
  },
  {
   "cell_type": "code",
   "execution_count": null,
   "metadata": {
    "colab": {
     "base_uri": "https://localhost:8080/"
    },
    "id": "onAKcGluT2dw",
    "outputId": "86bf1394-ce6d-4a9c-c200-78e1a908526f"
   },
   "outputs": [],
   "source": [
    "integer = 3\n",
    "type(integer)"
   ]
  },
  {
   "cell_type": "markdown",
   "metadata": {},
   "source": [
    "### The floating-point number\n",
    "\n",
    "Any number containing a decimal point"
   ]
  },
  {
   "cell_type": "code",
   "execution_count": null,
   "metadata": {
    "colab": {
     "base_uri": "https://localhost:8080/"
    },
    "id": "20yM7S2gUW4c",
    "outputId": "f50d3f8f-d79f-4ce2-978f-5a8830b43383"
   },
   "outputs": [],
   "source": [
    "floating_point_number = 3.141\n",
    "type(floating_point_number)"
   ]
  },
  {
   "cell_type": "markdown",
   "metadata": {},
   "source": [
    "### The string\n",
    "\n",
    "Individual letters are referred to as characters, collections of characters are 'strung' together to form strings of text"
   ]
  },
  {
   "cell_type": "code",
   "execution_count": null,
   "metadata": {
    "colab": {
     "base_uri": "https://localhost:8080/"
    },
    "id": "gPwxsFFJUgle",
    "outputId": "445e9330-1094-463c-950c-601c7e6f649d"
   },
   "outputs": [],
   "source": [
    "text_string = 'text'\n",
    "type(text_string)"
   ]
  },
  {
   "cell_type": "markdown",
   "metadata": {},
   "source": [
    "### The list\n",
    "\n",
    "Just like a shopping list is a list of items, a list in Python is a list of variables. Each variable has an *index* value associated with it, making recall of an individual, specific, variables possible."
   ]
  },
  {
   "cell_type": "code",
   "execution_count": null,
   "metadata": {
    "colab": {
     "base_uri": "https://localhost:8080/"
    },
    "id": "Osl2r2xmUkgf",
    "outputId": "1b61605e-4c14-4fcb-d51e-b1211a2960f3"
   },
   "outputs": [],
   "source": [
    "list_of_things = ['text', 'more text', 'even more text']\n",
    "type(list_of_things)"
   ]
  },
  {
   "cell_type": "markdown",
   "metadata": {},
   "source": [
    "Once a list, such as the one above has been created it is possible to retrieve an indivdual variable using the syntax *list[n]* where you replace the letter *n* with the index of the variable. Indices start at zero where the first variable in the list (the value on the left hand side, closest to the equals sign) has the zero value; *e.g.*:"
   ]
  },
  {
   "cell_type": "code",
   "execution_count": null,
   "metadata": {},
   "outputs": [],
   "source": [
    "list_of_things[0]"
   ]
  },
  {
   "cell_type": "markdown",
   "metadata": {},
   "source": [
    "### The dictionary\n",
    "\n",
    "The final type that we will cover here is the dictionary, it is very similar to the list but has a neat nuance. When using lists you have to know the index of the variable you're trying to recall, usually as you create the list you will know this, however, it is possible to append and remove entries from a list which can start to cause headaches when tracking where everything is.\n",
    "\n",
    "In a dictionary you call variables not by index but by their *key* and when you call a key you are returned it's value. This approach of variable storage has been given the imaginative name of *key, value* pairs."
   ]
  },
  {
   "cell_type": "code",
   "execution_count": null,
   "metadata": {
    "colab": {
     "base_uri": "https://localhost:8080/"
    },
    "id": "airRxJIUUufJ",
    "outputId": "1e774d52-7508-49d9-bb06-6c228f2666da"
   },
   "outputs": [],
   "source": [
    "key_value_pair_dictionary = {'key' : 'value', 'key_two' : 3.141}\n",
    "type(key_value_pair_dictionary)"
   ]
  },
  {
   "cell_type": "markdown",
   "metadata": {},
   "source": [
    "Above I have created a simple dictionary containing two variables, *key* and *key_two*, to retrieve one I would simply have to enter"
   ]
  },
  {
   "cell_type": "code",
   "execution_count": null,
   "metadata": {},
   "outputs": [],
   "source": [
    "key_value_pair_dictionary['key']"
   ]
  },
  {
   "cell_type": "markdown",
   "metadata": {},
   "source": [
    "This retrieves the value from the dictionary, interestingly although the variable *key_value_pair_dictionary* has a type of dictionary the values retain their own types"
   ]
  },
  {
   "cell_type": "code",
   "execution_count": null,
   "metadata": {},
   "outputs": [],
   "source": [
    "type(key_value_pair_dictionary['key_two'])"
   ]
  },
  {
   "cell_type": "markdown",
   "metadata": {},
   "source": [
    "As can be seen above, once key_two if we retrieve *key_two* it's type remains *float*\n",
    "\n",
    "As already mentioned, there are quite a few different types of variable and each one has a different role to play. This will give us a good grounding for now as we turn our attention to *flow control*."
   ]
  }
 ],
 "metadata": {
  "colab": {
   "collapsed_sections": [],
   "name": "Untitled0.ipynb",
   "provenance": []
  },
  "kernelspec": {
   "display_name": "Python 3",
   "language": "python",
   "name": "python3"
  },
  "language_info": {
   "codemirror_mode": {
    "name": "ipython",
    "version": 3
   },
   "file_extension": ".py",
   "mimetype": "text/x-python",
   "name": "python",
   "nbconvert_exporter": "python",
   "pygments_lexer": "ipython3",
   "version": "3.8.5"
  }
 },
 "nbformat": 4,
 "nbformat_minor": 1
}

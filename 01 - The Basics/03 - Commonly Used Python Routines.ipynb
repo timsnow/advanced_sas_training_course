{
 "cells": [
  {
   "cell_type": "markdown",
   "id": "d9c27795",
   "metadata": {},
   "source": [
    "# Workbook 3 - Commonly Used Python ~~Routines~~ *Things*\n",
    "\n",
    "Naturally, it *is* possible to do everything yourself in code from first principles but the truth is, in many cases: you shouldn't.\n",
    "\n",
    "Not only is it a waste of your time to re-invent the wheel but also many common routines have been *thoroughly* thought out, optimised, unit-tested and stress-tested by a vast user community.\n",
    "\n",
    "A good example of this could be the `range` function from the last workbook, I could create my own function:"
   ]
  },
  {
   "cell_type": "code",
   "execution_count": null,
   "id": "4fe73ce4",
   "metadata": {},
   "outputs": [],
   "source": [
    "def lets_make_integers(stop_integer, start_integer = 0, integer_step = 1):\n",
    "    list_of_integers_to_return = []\n",
    "    current_integer = start_integer\n",
    "    \n",
    "    while current_integer < stop_integer:\n",
    "        list_of_integers_to_return.append(current_integer)\n",
    "        current_integer += integer_step\n",
    "    \n",
    "    return list_of_integers_to_return"
   ]
  },
  {
   "cell_type": "code",
   "execution_count": null,
   "id": "f2691308",
   "metadata": {},
   "outputs": [],
   "source": [
    "list_of_integers = lets_make_integers(10)\n",
    "print(list_of_integers)"
   ]
  },
  {
   "cell_type": "markdown",
   "id": "e5e6fdd0",
   "metadata": {},
   "source": [
    "But now for *each* program I write I'm going to have to include that code and I'll have to live with the fact that I know its performance will be terrible for large lists as the `.append()` function isn't all that performant.\n",
    "\n",
    "Furthermore, if any of the functionality used in these code snippets changes *you'll* have to change all of these yourself - if you use centrally written methods someone *else* will do the heavy lifting for you (unless you're the maintainer!).\n",
    "\n",
    "![Python](https://imgs.xkcd.com/comics/python.png)\n",
    "<div align=\"center\">\n",
    "<a href=\"https://xkcd.com/353/\">xkcd - Python</a> - Randall Munroe - CC-BY-NC-2.5\n",
    "</div>"
   ]
  },
  {
   "cell_type": "markdown",
   "id": "6b86e66c",
   "metadata": {},
   "source": [
    "## Importing functions\n",
    "\n",
    "With all of that in mind, naturally Python doesn't come with every function under the sun just *ready to go*, there'd be too many possibilities for function naming clashes and too little space for you to name yours!\n",
    "\n",
    "Python wraps up these functions into libraries called *packages* which we can then import into our programs using the `import` keyword, for example:"
   ]
  },
  {
   "cell_type": "code",
   "execution_count": null,
   "id": "874e8276",
   "metadata": {},
   "outputs": [],
   "source": [
    "import os\n",
    "os.name"
   ]
  },
  {
   "cell_type": "markdown",
   "id": "6d8ad482",
   "metadata": {},
   "source": [
    "It is also to import parts of larger packages using the `from` and `import` keywords together"
   ]
  },
  {
   "cell_type": "code",
   "execution_count": null,
   "id": "7d6b70fd",
   "metadata": {},
   "outputs": [],
   "source": [
    "from time import time\n",
    "time()"
   ]
  },
  {
   "cell_type": "markdown",
   "id": "a8c2535f",
   "metadata": {},
   "source": [
    "And if we want to call something that we intend to import by a custom (or *pet* name) we can do that with the `as` keyword"
   ]
  },
  {
   "cell_type": "code",
   "execution_count": null,
   "id": "d099950e",
   "metadata": {},
   "outputs": [],
   "source": [
    "from math import sqrt as square_root\n",
    "square_root(9)"
   ]
  },
  {
   "cell_type": "markdown",
   "id": "c5af17d3",
   "metadata": {},
   "source": [
    "Finally, we can cheat and import functions from libraries using the `*` or wildcard character"
   ]
  },
  {
   "cell_type": "code",
   "execution_count": null,
   "id": "b692d8ef",
   "metadata": {},
   "outputs": [],
   "source": [
    "radians(180) / pi"
   ]
  },
  {
   "cell_type": "code",
   "execution_count": null,
   "id": "785fc713",
   "metadata": {},
   "outputs": [],
   "source": [
    "from math import *"
   ]
  },
  {
   "cell_type": "code",
   "execution_count": null,
   "id": "0e2ae661",
   "metadata": {},
   "outputs": [],
   "source": [
    "radians(180) / pi"
   ]
  },
  {
   "cell_type": "markdown",
   "id": "1fba5de8",
   "metadata": {},
   "source": [
    "We will be covering a number of Python packages as we go through this workshop but one package that is worth mentioning right now is the built-in `math` package."
   ]
  },
  {
   "cell_type": "markdown",
   "id": "0381632c",
   "metadata": {},
   "source": [
    "### `math`\n",
    "Link to documentation: [math — Mathematical functions](https://docs.python.org/3/library/math.html)\n",
    "\n",
    "There's a lot in the `math` library from constants to functions - there's simply not enough time to go through it all but the documentation outlines it all."
   ]
  },
  {
   "cell_type": "markdown",
   "id": "c64f4674",
   "metadata": {},
   "source": [
    "Finally, when importing a package the `dir()` and `help()` funtions are *very* useful, especially if you don't have an active connection to the internet!\n",
    "\n",
    "`dir()` will list all the sub-packages or functions present within the object you present it:"
   ]
  },
  {
   "cell_type": "code",
   "execution_count": null,
   "id": "09e00a56",
   "metadata": {},
   "outputs": [],
   "source": [
    "import math\n",
    "\n",
    "print(dir(math))"
   ]
  },
  {
   "cell_type": "markdown",
   "id": "c3b8629a",
   "metadata": {},
   "source": [
    "And, assuming that documentation has been written, help will return you information what a function does and how to use it:"
   ]
  },
  {
   "cell_type": "code",
   "execution_count": null,
   "id": "fec4dc56",
   "metadata": {},
   "outputs": [],
   "source": [
    "help(math.log)"
   ]
  },
  {
   "cell_type": "markdown",
   "id": "c9261d32",
   "metadata": {},
   "source": [
    "## Casting\n",
    "\n",
    "Sometimes you have data in one format and you'd like it in another format. A good example is when a number is loaded in from a file or a command prompt and is delivered as a `str` and not an `int` or `float`, this provides problems if we want to do maths on these numbers:"
   ]
  },
  {
   "cell_type": "code",
   "execution_count": null,
   "id": "91616591",
   "metadata": {},
   "outputs": [],
   "source": [
    "number_string = '300'\n",
    "type(number_string)"
   ]
  },
  {
   "cell_type": "code",
   "execution_count": null,
   "id": "358fc45f",
   "metadata": {},
   "outputs": [],
   "source": [
    "print(number_string * 3)"
   ]
  },
  {
   "cell_type": "markdown",
   "id": "3433b91f",
   "metadata": {},
   "source": [
    "Not quite what you might expect..."
   ]
  },
  {
   "cell_type": "code",
   "execution_count": null,
   "id": "89548627",
   "metadata": {},
   "outputs": [],
   "source": [
    "print(number_string + 3)"
   ]
  },
  {
   "cell_type": "markdown",
   "id": "bd5e9fe4",
   "metadata": {},
   "source": [
    "Interesting error what's all this about concatenation? (we'll come back to this in a moment)"
   ]
  },
  {
   "cell_type": "code",
   "execution_count": null,
   "id": "338f6788",
   "metadata": {},
   "outputs": [],
   "source": [
    "print(number_string / 3)"
   ]
  },
  {
   "cell_type": "markdown",
   "id": "cc158892",
   "metadata": {},
   "source": [
    "Ooo, er... something's really not right now\n",
    "\n",
    "So - before we can do mathematics on random variables we should *check* that they're not going to be a problem for us. If we know variables might be a different format to the one we want, or need, we can perform a check on the number first and cast it to the correct type:"
   ]
  },
  {
   "cell_type": "code",
   "execution_count": null,
   "id": "a92ebef3",
   "metadata": {},
   "outputs": [],
   "source": [
    "number_to_divide = '300'\n",
    "type(number_to_divide)"
   ]
  },
  {
   "cell_type": "code",
   "execution_count": null,
   "id": "a677f09c",
   "metadata": {},
   "outputs": [],
   "source": [
    "if not (isinstance(number_to_divide, (int, float))):\n",
    "    number_to_divide = float(number_to_divide)\n",
    "    \n",
    "type(number_to_divide)"
   ]
  },
  {
   "cell_type": "code",
   "execution_count": null,
   "id": "25fc41f6",
   "metadata": {},
   "outputs": [],
   "source": [
    "number_to_divide / 3"
   ]
  },
  {
   "cell_type": "markdown",
   "id": "1bd8ac35",
   "metadata": {},
   "source": [
    "Going back to that `if` statement, we used a built-in Python function called `isinstance` to check if the variable that we were about to use was an integer or floating-point number which would return a `False` boolean value. \n",
    "\n",
    "However, the use of `if not` rather than `if` means that we enter into the indented code if it does *not* pass the evalutation.\n",
    "\n",
    "From here we *cast* the value to a floating-point number using the `float()` function - we could use the `int()` function if we wanted an integer value - and assign this value to a variable with the same name, overwriting the previous variable.\n",
    "\n",
    "Then we're free to do our mathematics as you'd expect."
   ]
  },
  {
   "cell_type": "markdown",
   "id": "e85e945f",
   "metadata": {},
   "source": [
    "### TypeError: can only concatenate str (not \"int\") to str\n",
    "\n",
    "So why did `number_string + 3` give that odd error?\n",
    "\n",
    "Well, as strings are series of characters in a list, it's fully possible to add strings together if in the right type."
   ]
  },
  {
   "cell_type": "code",
   "execution_count": null,
   "id": "44f881f7",
   "metadata": {},
   "outputs": [],
   "source": [
    "print('String one, ' + 'String two')"
   ]
  },
  {
   "cell_type": "code",
   "execution_count": null,
   "id": "ecf15409",
   "metadata": {},
   "outputs": [],
   "source": [
    "variable_one = 'String one, '\n",
    "variable_two = 'String two'\n",
    "print(variable_one + variable_two)"
   ]
  },
  {
   "cell_type": "markdown",
   "id": "2a0219e9",
   "metadata": {},
   "source": [
    "This is why multiplying `number_string` by three gave `300300300` because it's `300` three times.\n",
    "\n",
    "In a similar fashion to being able to do maths with strings, we could 'fix' things, if we wanted to, to add 3 to the end of the `300` string by casting as well:"
   ]
  },
  {
   "cell_type": "code",
   "execution_count": null,
   "id": "84e2f502",
   "metadata": {},
   "outputs": [],
   "source": [
    "number_string = '300'\n",
    "type(number_string)"
   ]
  },
  {
   "cell_type": "code",
   "execution_count": null,
   "id": "4860598f",
   "metadata": {},
   "outputs": [],
   "source": [
    "integer_number = 3\n",
    "type(integer_number)"
   ]
  },
  {
   "cell_type": "code",
   "execution_count": null,
   "id": "c9a3f136",
   "metadata": {},
   "outputs": [],
   "source": [
    "print(number_string + str(integer_number))"
   ]
  },
  {
   "cell_type": "markdown",
   "id": "a429a52a",
   "metadata": {},
   "source": [
    "## List/Array indexes and \"*fancy*\" indexing\n",
    "\n",
    "Let's set up a small list:"
   ]
  },
  {
   "cell_type": "code",
   "execution_count": null,
   "id": "54ca0fea",
   "metadata": {},
   "outputs": [],
   "source": [
    "small_list = [0, 1, 2, 3, 4, 5, 6, 7, 8, 9]"
   ]
  },
  {
   "cell_type": "markdown",
   "id": "bebb1e00",
   "metadata": {},
   "source": [
    "Up to this point we've either addressed entire lists or individual elements, like so:"
   ]
  },
  {
   "cell_type": "code",
   "execution_count": null,
   "id": "f4ba3eb2",
   "metadata": {},
   "outputs": [],
   "source": [
    "print(small_list)"
   ]
  },
  {
   "cell_type": "code",
   "execution_count": null,
   "id": "3fd41da9",
   "metadata": {},
   "outputs": [],
   "source": [
    "print(small_list[5])"
   ]
  },
  {
   "cell_type": "markdown",
   "id": "3d9eedb4",
   "metadata": {},
   "source": [
    "But what if we had a *huge* list, or an array (more on these later), and we wanted to address a portion of the overall list, or maybe every *n*th element?\n",
    "\n",
    "Turns out - we can! Using `start:stop:step` notation within the square brackets, taking our small list from before:"
   ]
  },
  {
   "cell_type": "code",
   "execution_count": null,
   "id": "67608a14",
   "metadata": {},
   "outputs": [],
   "source": [
    "print(small_list[2:7])"
   ]
  },
  {
   "cell_type": "code",
   "execution_count": null,
   "id": "37de68c7",
   "metadata": {},
   "outputs": [],
   "source": [
    "print(small_list[2:7:2])"
   ]
  },
  {
   "cell_type": "markdown",
   "id": "e757679a",
   "metadata": {},
   "source": [
    "We can go even further, if we don't know the *exact* length of the list we can omit the `start` and `stop` values and simply put in a `step` value to downsample the entire list:"
   ]
  },
  {
   "cell_type": "code",
   "execution_count": null,
   "id": "cb9ce403",
   "metadata": {},
   "outputs": [],
   "source": [
    "print(small_list[::2])"
   ]
  },
  {
   "cell_type": "markdown",
   "id": "2ca5d6b5",
   "metadata": {},
   "source": [
    "Or, return a full scale list but omit the first few points:"
   ]
  },
  {
   "cell_type": "code",
   "execution_count": null,
   "id": "8385d63f",
   "metadata": {},
   "outputs": [],
   "source": [
    "print(small_list[4:])"
   ]
  },
  {
   "cell_type": "markdown",
   "id": "05251797",
   "metadata": {},
   "source": [
    "Or, return a full scale list but omit the last few points:"
   ]
  },
  {
   "cell_type": "code",
   "execution_count": null,
   "id": "b83f3794",
   "metadata": {},
   "outputs": [],
   "source": [
    "print(small_list[:-2])"
   ]
  },
  {
   "cell_type": "markdown",
   "id": "917b6c00",
   "metadata": {},
   "source": [
    "**Note** if we don't anticipate knowing the length of the list *but* we know we want to slice off the last *n* values we can use the `-n` notation - now we're starting to stray into *fancy* indexing (truly, this is the technical term: [Fancy Indexing](https://jakevdp.github.io/PythonDataScienceHandbook/02.07-fancy-indexing.html)).\n",
    "\n",
    "Now all of this is great for 'flat' lists and arrays but what about arrays with *columns* and *rows*? Well, to start let's set one up using a loop:"
   ]
  },
  {
   "cell_type": "code",
   "execution_count": null,
   "id": "a68fe844",
   "metadata": {},
   "outputs": [],
   "source": [
    "medium_list = []\n",
    "\n",
    "for loop_iteration in range(10):\n",
    "    medium_list.append(small_list)\n",
    "    \n",
    "print(medium_list)"
   ]
  },
  {
   "cell_type": "markdown",
   "id": "09c6e105",
   "metadata": {},
   "source": [
    "You'll notice that what we essentially have now is lists within lists - a 2D list!\n",
    "\n",
    "This is noticable because rather than the list having the form `list = [...]` we now have `list = [[...], [...], [...]]` each list can be addressed using the same notation as before:"
   ]
  },
  {
   "cell_type": "code",
   "execution_count": null,
   "id": "300ed885",
   "metadata": {},
   "outputs": [],
   "source": [
    "print(medium_list[4])"
   ]
  },
  {
   "cell_type": "markdown",
   "id": "11fa5bba",
   "metadata": {},
   "source": [
    "And each element in that list can be addressed using an index inside a *second* set of square brackets:"
   ]
  },
  {
   "cell_type": "code",
   "execution_count": null,
   "id": "35a1c013",
   "metadata": {},
   "outputs": [],
   "source": [
    "print(medium_list[4][4])"
   ]
  },
  {
   "cell_type": "markdown",
   "id": "92a43f7e",
   "metadata": {},
   "source": [
    "For those of an enquiring mind there are many differences between arrays and lists, however, we shall cover those in the next module of the course."
   ]
  },
  {
   "cell_type": "markdown",
   "id": "595ea275",
   "metadata": {},
   "source": [
    "## Further reading\n",
    "\n",
    "More information on modules/packages can be found on the Python documentation here: [Modules](https://docs.python.org/3.9/tutorial/modules.html)\n",
    "\n",
    "More information on types and casting can be found on the Python documentation here: [An Informal Introduction to Python](https://docs.python.org/3.9/tutorial/introduction.html)\n",
    "\n",
    "More information on indexing can be found on the numpy documentation here: [Indexing](https://numpy.org/doc/stable/reference/arrays.indexing.html)"
   ]
  }
 ],
 "metadata": {
  "kernelspec": {
   "display_name": "Python 3",
   "language": "python",
   "name": "python3"
  },
  "language_info": {
   "codemirror_mode": {
    "name": "ipython",
    "version": 3
   },
   "file_extension": ".py",
   "mimetype": "text/x-python",
   "name": "python",
   "nbconvert_exporter": "python",
   "pygments_lexer": "ipython3",
   "version": "3.8.5"
  }
 },
 "nbformat": 4,
 "nbformat_minor": 5
}

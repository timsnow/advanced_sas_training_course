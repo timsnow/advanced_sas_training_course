{
 "cells": [
  {
   "cell_type": "markdown",
   "id": "da99c1a9",
   "metadata": {},
   "source": [
    "# Workbook 3 - Commonly Used Python ~~Routines~~ *Things*\n",
    "\n",
    "Naturally, it *is* possible to do everything yourself in code from first principles but the truth is, in many cases: you shouldn't.\n",
    "\n",
    "Not only is it a waste of your time to re-invent the wheel but also many common routines have been *thoroughly* thought out, optimised, unit-tested and stress-tested by a vast user community.\n",
    "\n",
    "A good example of this could be the `range` function from the last workbook, I could create my own function:"
   ]
  },
  {
   "cell_type": "code",
   "execution_count": 1,
   "id": "433b52c1",
   "metadata": {},
   "outputs": [],
   "source": [
    "def lets_make_integers(stop_integer, start_integer = 0, integer_step = 1):\n",
    "    list_of_integers_to_return = []\n",
    "    current_integer = start_integer\n",
    "    \n",
    "    while current_integer < stop_integer:\n",
    "        list_of_integers_to_return.append(current_integer)\n",
    "        current_integer += integer_step\n",
    "    \n",
    "    return list_of_integers_to_return"
   ]
  },
  {
   "cell_type": "code",
   "execution_count": 2,
   "id": "32931a16",
   "metadata": {},
   "outputs": [
    {
     "name": "stdout",
     "output_type": "stream",
     "text": [
      "[0, 1, 2, 3, 4, 5, 6, 7, 8, 9]\n"
     ]
    }
   ],
   "source": [
    "list_of_integers = lets_make_integers(10)\n",
    "print(list_of_integers)"
   ]
  },
  {
   "cell_type": "markdown",
   "id": "21113ad3",
   "metadata": {},
   "source": [
    "But now for *each* program I write I'm going to have to include that code and I'll have to live with the fact that I know its performance will be terrible for large lists as the `.append()` function isn't all that performant.\n",
    "\n",
    "Furthermore, if any of the functionality used in these code snippets changes *you'll* have to change all of these yourself - if you use centrally written methods someone *else* will do the heavy lifting for you (unless you're the maintainer!).\n",
    "\n",
    "![Python](https://imgs.xkcd.com/comics/python.png)\n",
    "<div align=\"center\">\n",
    "<a href=\"https://xkcd.com/353/\">xkcd - Python</a> - Randall Munroe - CC-BY-NC-2.5\n",
    "</div>"
   ]
  },
  {
   "cell_type": "markdown",
   "id": "faf5807e",
   "metadata": {},
   "source": [
    "## Importing functions\n",
    "\n",
    "With all of that in mind, naturally Python doesn't come with every function under the sun just *ready to go*, there'd be too many possibilities for function naming clashes and too little space for you to name yours!\n",
    "\n",
    "Python wraps up these functions into libraries called *packages* which we can then import into our programs using the `import` keyword, for example:"
   ]
  },
  {
   "cell_type": "code",
   "execution_count": 3,
   "id": "8fffa252",
   "metadata": {},
   "outputs": [
    {
     "data": {
      "text/plain": [
       "'posix'"
      ]
     },
     "execution_count": 3,
     "metadata": {},
     "output_type": "execute_result"
    }
   ],
   "source": [
    "import os\n",
    "os.name"
   ]
  },
  {
   "cell_type": "markdown",
   "id": "e235d868",
   "metadata": {},
   "source": [
    "It is also to import parts of larger packages using the `from` and `import` keywords together"
   ]
  },
  {
   "cell_type": "code",
   "execution_count": 4,
   "id": "1c998be5",
   "metadata": {},
   "outputs": [
    {
     "data": {
      "text/plain": [
       "1621958330.7984798"
      ]
     },
     "execution_count": 4,
     "metadata": {},
     "output_type": "execute_result"
    }
   ],
   "source": [
    "from time import time\n",
    "time()"
   ]
  },
  {
   "cell_type": "markdown",
   "id": "8e445f14",
   "metadata": {},
   "source": [
    "And if we want to call something that we intend to import by a custom (or *pet* name) we can do that with the `as` keyword"
   ]
  },
  {
   "cell_type": "code",
   "execution_count": 5,
   "id": "b1c5a3e7",
   "metadata": {},
   "outputs": [
    {
     "data": {
      "text/plain": [
       "3.0"
      ]
     },
     "execution_count": 5,
     "metadata": {},
     "output_type": "execute_result"
    }
   ],
   "source": [
    "from math import sqrt as square_root\n",
    "square_root(9)"
   ]
  },
  {
   "cell_type": "markdown",
   "id": "2b60841a",
   "metadata": {},
   "source": [
    "Finally, we can cheat and import functions from libraries using the `*` or wildcard character"
   ]
  },
  {
   "cell_type": "code",
   "execution_count": 6,
   "id": "16e30f44",
   "metadata": {},
   "outputs": [
    {
     "ename": "NameError",
     "evalue": "name 'radians' is not defined",
     "output_type": "error",
     "traceback": [
      "\u001b[0;31m---------------------------------------------------------------------------\u001b[0m",
      "\u001b[0;31mNameError\u001b[0m                                 Traceback (most recent call last)",
      "\u001b[0;32m<ipython-input-6-1c78d834fd38>\u001b[0m in \u001b[0;36m<module>\u001b[0;34m\u001b[0m\n\u001b[0;32m----> 1\u001b[0;31m \u001b[0mradians\u001b[0m\u001b[0;34m(\u001b[0m\u001b[0;36m180\u001b[0m\u001b[0;34m)\u001b[0m \u001b[0;34m/\u001b[0m \u001b[0mpi\u001b[0m\u001b[0;34m\u001b[0m\u001b[0;34m\u001b[0m\u001b[0m\n\u001b[0m",
      "\u001b[0;31mNameError\u001b[0m: name 'radians' is not defined"
     ]
    }
   ],
   "source": [
    "radians(180) / pi"
   ]
  },
  {
   "cell_type": "code",
   "execution_count": null,
   "id": "a36972e2",
   "metadata": {},
   "outputs": [],
   "source": [
    "from math import *"
   ]
  },
  {
   "cell_type": "code",
   "execution_count": null,
   "id": "ff807bc5",
   "metadata": {},
   "outputs": [],
   "source": [
    "radians(180) / pi"
   ]
  },
  {
   "cell_type": "markdown",
   "id": "51b38d4d",
   "metadata": {},
   "source": [
    "We will be covering a number of Python packages as we go through this workshop but one package that will be of tremendous use is the `math` package."
   ]
  },
  {
   "cell_type": "markdown",
   "id": "23eac257",
   "metadata": {},
   "source": [
    "### `math`\n",
    "Link to documentation: [math — Mathematical functions](https://docs.python.org/3/library/math.html)\n",
    "\n",
    "There's a lot in the `math` library from constants to functions - there's simply not enough time to go through it all but the documentation outlines it all."
   ]
  },
  {
   "cell_type": "markdown",
   "id": "ba2cf8e5",
   "metadata": {},
   "source": [
    "## Casting\n",
    "\n",
    "Sometimes you have data in one format and you'd like it in another format. A good example is when a number is loaded in from a file or a command prompt and is delivered as a `str` and not an `int` or `float`, this provides problems if we want to do maths on these numbers:"
   ]
  },
  {
   "cell_type": "code",
   "execution_count": null,
   "id": "4bddfb96",
   "metadata": {},
   "outputs": [],
   "source": [
    "number_string = '300'\n",
    "type(number_string)"
   ]
  },
  {
   "cell_type": "code",
   "execution_count": null,
   "id": "1ebe0824",
   "metadata": {},
   "outputs": [],
   "source": [
    "print(number_string * 3)"
   ]
  },
  {
   "cell_type": "markdown",
   "id": "3a23ebcc",
   "metadata": {},
   "source": [
    "Not quite what you might expect..."
   ]
  },
  {
   "cell_type": "code",
   "execution_count": null,
   "id": "52d584d2",
   "metadata": {},
   "outputs": [],
   "source": [
    "print(number_string + 3)"
   ]
  },
  {
   "cell_type": "markdown",
   "id": "48d324a8",
   "metadata": {},
   "source": [
    "Interesting error what's all this about concatenation? (we'll come back to this in a moment)"
   ]
  },
  {
   "cell_type": "code",
   "execution_count": null,
   "id": "d48a6dac",
   "metadata": {},
   "outputs": [],
   "source": [
    "print(number_string / 3)"
   ]
  },
  {
   "cell_type": "markdown",
   "id": "d65996f9",
   "metadata": {},
   "source": [
    "Ooo, er... something's really not right now\n",
    "\n",
    "So - before we can do mathematics on random variables we should *check* that they're not going to be a problem for us. If we know variables might be a different format to the one we want, or need, we can perform a check on the number first and cast it to the correct type:"
   ]
  },
  {
   "cell_type": "code",
   "execution_count": null,
   "id": "c7e82d98",
   "metadata": {},
   "outputs": [],
   "source": [
    "number_to_divide = '300'\n",
    "type(number_to_divide)"
   ]
  },
  {
   "cell_type": "code",
   "execution_count": null,
   "id": "f519a92b",
   "metadata": {},
   "outputs": [],
   "source": [
    "if not (isinstance(number_to_divide, (int, float))):\n",
    "    number_to_divide = float(number_to_divide)\n",
    "    \n",
    "type(number_to_divide)"
   ]
  },
  {
   "cell_type": "code",
   "execution_count": null,
   "id": "25883ed2",
   "metadata": {},
   "outputs": [],
   "source": [
    "number_to_divide / 3"
   ]
  },
  {
   "cell_type": "markdown",
   "id": "b08bddb0",
   "metadata": {},
   "source": [
    "Going back to that `if` statement, we used a built-in Python function called `isinstance` to check if the variable that we were about to use was an integer or floating-point number which would return a `False` boolean value. \n",
    "\n",
    "However, the use of `if not` rather than `if` means that we enter into the indented code if it does *not* pass the evalutation.\n",
    "\n",
    "From here we *cast* the value to a floating-point number using the `float()` function - we could use the `int()` function if we wanted an integer value - and assign this value to a variable with the same name, overwriting the previous variable.\n",
    "\n",
    "Then we're free to do our mathematics as you'd expect."
   ]
  },
  {
   "cell_type": "markdown",
   "id": "1b4ea8c0",
   "metadata": {},
   "source": [
    "### TypeError: can only concatenate str (not \"int\") to str\n",
    "\n",
    "So why did `number_string + 3` give that odd error?\n",
    "\n",
    "Well, as strings are series of characters in a list, it's fully possible to add strings together if in the right type."
   ]
  },
  {
   "cell_type": "code",
   "execution_count": null,
   "id": "dd135123",
   "metadata": {},
   "outputs": [],
   "source": [
    "print('String one, ' + 'String two')"
   ]
  },
  {
   "cell_type": "code",
   "execution_count": null,
   "id": "10f41d79",
   "metadata": {},
   "outputs": [],
   "source": [
    "variable_one = 'String one, '\n",
    "variable_two = 'String two'\n",
    "print(variable_one + variable_two)"
   ]
  },
  {
   "cell_type": "markdown",
   "id": "8390d0d7",
   "metadata": {},
   "source": [
    "This is why multiplying `number_string` by three gave `300300300` because it's `300` three times.\n",
    "\n",
    "In a similar fashion to being able to do maths with strings, we could 'fix' things, if we wanted to, to add 3 to the end of the `300` string by casting as well:"
   ]
  },
  {
   "cell_type": "code",
   "execution_count": null,
   "id": "3572c499",
   "metadata": {},
   "outputs": [],
   "source": [
    "number_string = '300'\n",
    "type(number_string)"
   ]
  },
  {
   "cell_type": "code",
   "execution_count": null,
   "id": "a76b915d",
   "metadata": {},
   "outputs": [],
   "source": [
    "integer_number = 3\n",
    "type(integer_number)"
   ]
  },
  {
   "cell_type": "code",
   "execution_count": null,
   "id": "1c67c555",
   "metadata": {},
   "outputs": [],
   "source": [
    "print(number_string + str(integer_number))"
   ]
  },
  {
   "cell_type": "markdown",
   "id": "22865bcc",
   "metadata": {},
   "source": [
    "## \"Fancy\" indexing\n",
    "\n"
   ]
  },
  {
   "cell_type": "code",
   "execution_count": null,
   "id": "ecc1aaca",
   "metadata": {},
   "outputs": [],
   "source": []
  },
  {
   "cell_type": "code",
   "execution_count": null,
   "id": "0570df45",
   "metadata": {},
   "outputs": [],
   "source": []
  },
  {
   "cell_type": "code",
   "execution_count": null,
   "id": "f4366982",
   "metadata": {},
   "outputs": [],
   "source": []
  },
  {
   "cell_type": "code",
   "execution_count": null,
   "id": "d86e5189",
   "metadata": {},
   "outputs": [],
   "source": []
  },
  {
   "cell_type": "code",
   "execution_count": null,
   "id": "9fc74ae2",
   "metadata": {},
   "outputs": [],
   "source": []
  },
  {
   "cell_type": "code",
   "execution_count": null,
   "id": "c1fc6b5e",
   "metadata": {},
   "outputs": [],
   "source": []
  }
 ],
 "metadata": {
  "kernelspec": {
   "display_name": "Python 3",
   "language": "python",
   "name": "python3"
  },
  "language_info": {
   "codemirror_mode": {
    "name": "ipython",
    "version": 3
   },
   "file_extension": ".py",
   "mimetype": "text/x-python",
   "name": "python",
   "nbconvert_exporter": "python",
   "pygments_lexer": "ipython3",
   "version": "3.8.5"
  }
 },
 "nbformat": 4,
 "nbformat_minor": 5
}

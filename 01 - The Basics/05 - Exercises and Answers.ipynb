{
 "cells": [
  {
   "cell_type": "markdown",
   "id": "4fa1518c",
   "metadata": {},
   "source": [
    "Create a variable with a type of `int` and print confirmation of this to the console:"
   ]
  },
  {
   "cell_type": "code",
   "execution_count": 1,
   "id": "febb87c9",
   "metadata": {},
   "outputs": [
    {
     "data": {
      "text/plain": [
       "int"
      ]
     },
     "execution_count": 1,
     "metadata": {},
     "output_type": "execute_result"
    }
   ],
   "source": [
    "integer_variable = 3\n",
    "type(3)"
   ]
  },
  {
   "cell_type": "markdown",
   "id": "eb8fd532",
   "metadata": {},
   "source": [
    "Create a list with 10 elements within it and print the value of one element to the console:"
   ]
  },
  {
   "cell_type": "code",
   "execution_count": 2,
   "id": "1abf0325",
   "metadata": {},
   "outputs": [],
   "source": [
    "list_of_things = [0, 1, 2, 3, 4, 5, 6, 7, 8, 9]"
   ]
  },
  {
   "cell_type": "code",
   "execution_count": 3,
   "id": "9ba65f73",
   "metadata": {},
   "outputs": [
    {
     "name": "stdout",
     "output_type": "stream",
     "text": [
      "5\n"
     ]
    }
   ],
   "source": [
    "print(list_of_things[5])"
   ]
  },
  {
   "cell_type": "markdown",
   "id": "055e5142",
   "metadata": {},
   "source": [
    "Using the same list, take a subset (or a downsampled subset) of the information within it and print this to the console:"
   ]
  },
  {
   "cell_type": "code",
   "execution_count": 4,
   "id": "ed48db2b",
   "metadata": {},
   "outputs": [
    {
     "name": "stdout",
     "output_type": "stream",
     "text": [
      "[3, 4, 5]\n"
     ]
    }
   ],
   "source": [
    "print(list_of_things[3:6])"
   ]
  },
  {
   "cell_type": "markdown",
   "id": "e3d85b8b",
   "metadata": {},
   "source": [
    "Import the `math` library and get help on the `degrees` function:"
   ]
  },
  {
   "cell_type": "code",
   "execution_count": 5,
   "id": "f90eb153",
   "metadata": {},
   "outputs": [],
   "source": [
    "from math import degrees"
   ]
  },
  {
   "cell_type": "markdown",
   "id": "df9da33d",
   "metadata": {},
   "source": [
    "Use this function to convert an angle, in radians, to an angle in degrees:"
   ]
  },
  {
   "cell_type": "code",
   "execution_count": 6,
   "id": "d10cde11",
   "metadata": {},
   "outputs": [
    {
     "name": "stdout",
     "output_type": "stream",
     "text": [
      "179.96604345059157\n"
     ]
    }
   ],
   "source": [
    "print(degrees(3.141))"
   ]
  },
  {
   "cell_type": "markdown",
   "id": "22f2e6ca",
   "metadata": {},
   "source": [
    "Create your own function to convert an angle, in degrees, to an angle in radians (keeping in mind that 180 degrees = pi, or 3.141..., radians):"
   ]
  },
  {
   "cell_type": "code",
   "execution_count": 7,
   "id": "28fb258b",
   "metadata": {},
   "outputs": [],
   "source": [
    "def degrees_to_radians(angle_in_degrees):\n",
    "    return (3.141 / 180) * angle_in_degrees\n",
    "\n",
    "# or\n",
    "\n",
    "from math import pi\n",
    "\n",
    "def degrees_to_radians(angle_in_degrees):\n",
    "    return (pi / 180) * angle_in_degrees"
   ]
  },
  {
   "cell_type": "markdown",
   "id": "0630eb36",
   "metadata": {},
   "source": [
    "Use a `for` loop to either print, or create a list (for printing), of angular values, in radians, for angles within a range of 0 to 360 degrees. \n",
    "\n",
    "Feel free to address the whole 0-360 degree range, a subset of this range, or a downsampled subset of this range:"
   ]
  },
  {
   "cell_type": "code",
   "execution_count": 8,
   "id": "b7d5dba9",
   "metadata": {},
   "outputs": [
    {
     "name": "stdout",
     "output_type": "stream",
     "text": [
      "0.0\n",
      "0.05235987755982989\n",
      "0.10471975511965978\n",
      "0.15707963267948966\n",
      "0.20943951023931956\n",
      "0.2617993877991494\n",
      "0.3141592653589793\n",
      "0.3665191429188092\n",
      "0.4188790204786391\n",
      "0.47123889803846897\n",
      "0.5235987755982988\n",
      "0.5759586531581288\n",
      "0.6283185307179586\n",
      "0.6806784082777885\n",
      "0.7330382858376184\n",
      "0.7853981633974483\n",
      "0.8377580409572782\n",
      "0.8901179185171081\n",
      "0.9424777960769379\n",
      "0.9948376736367679\n",
      "1.0471975511965976\n",
      "1.0995574287564276\n",
      "1.1519173063162575\n",
      "1.2042771838760873\n",
      "1.2566370614359172\n",
      "1.3089969389957472\n",
      "1.361356816555577\n",
      "1.413716694115407\n",
      "1.4660765716752369\n",
      "1.5184364492350666\n",
      "1.5707963267948966\n",
      "1.6231562043547265\n",
      "1.6755160819145565\n",
      "1.7278759594743862\n",
      "1.7802358370342162\n",
      "1.8325957145940461\n",
      "1.8849555921538759\n",
      "1.9373154697137058\n",
      "1.9896753472735358\n",
      "2.0420352248333655\n",
      "2.0943951023931953\n",
      "2.1467549799530254\n",
      "2.199114857512855\n",
      "2.251474735072685\n",
      "2.303834612632515\n",
      "2.356194490192345\n",
      "2.4085543677521746\n",
      "2.4609142453120048\n",
      "2.5132741228718345\n",
      "2.5656340004316642\n",
      "2.6179938779914944\n",
      "2.670353755551324\n",
      "2.722713633111154\n",
      "2.775073510670984\n",
      "2.827433388230814\n",
      "2.8797932657906435\n",
      "2.9321531433504737\n",
      "2.9845130209103035\n",
      "3.036872898470133\n",
      "3.0892327760299634\n",
      "3.141592653589793\n",
      "3.193952531149623\n",
      "3.246312408709453\n",
      "3.2986722862692828\n",
      "3.351032163829113\n",
      "3.4033920413889427\n",
      "3.4557519189487724\n",
      "3.5081117965086026\n",
      "3.5604716740684323\n",
      "3.612831551628262\n",
      "3.6651914291880923\n",
      "3.717551306747922\n",
      "3.7699111843077517\n",
      "3.822271061867582\n",
      "3.8746309394274117\n",
      "3.9269908169872414\n",
      "3.9793506945470716\n",
      "4.031710572106901\n",
      "4.084070449666731\n",
      "4.136430327226561\n",
      "4.1887902047863905\n",
      "4.241150082346221\n",
      "4.293509959906051\n",
      "4.34586983746588\n",
      "4.39822971502571\n",
      "4.4505895925855405\n",
      "4.50294947014537\n",
      "4.5553093477052\n",
      "4.60766922526503\n",
      "4.6600291028248595\n",
      "4.71238898038469\n",
      "4.76474885794452\n",
      "4.817108735504349\n",
      "4.869468613064179\n",
      "4.9218284906240095\n",
      "4.974188368183839\n",
      "5.026548245743669\n",
      "5.078908123303499\n",
      "5.1312680008633285\n",
      "5.183627878423159\n",
      "5.235987755982989\n",
      "5.288347633542818\n",
      "5.340707511102648\n",
      "5.3930673886624785\n",
      "5.445427266222308\n",
      "5.497787143782138\n",
      "5.550147021341968\n",
      "5.602506898901797\n",
      "5.654866776461628\n",
      "5.707226654021458\n",
      "5.759586531581287\n",
      "5.811946409141117\n",
      "5.8643062867009474\n",
      "5.916666164260777\n",
      "5.969026041820607\n",
      "6.021385919380437\n",
      "6.073745796940266\n",
      "6.126105674500097\n",
      "6.178465552059927\n",
      "6.230825429619756\n",
      "6.283185307179586\n"
     ]
    }
   ],
   "source": [
    "for angle_in_degrees in range(0, 361, 3):\n",
    "    print(degrees_to_radians(angle_in_degrees))"
   ]
  },
  {
   "cell_type": "markdown",
   "id": "aabc00d3",
   "metadata": {},
   "source": [
    "Run the below cell to create a dictionary:"
   ]
  },
  {
   "cell_type": "code",
   "execution_count": 9,
   "id": "75aa43c1",
   "metadata": {},
   "outputs": [],
   "source": [
    "cheeses = {'Jarlsberg' : '11.58', 'Emmental' : 8.00, 'Gruyere' : '15.00', 'Raclette' : '22.50', 'Reblochon' : 12.50, 'Cantal' : 22.50}"
   ]
  },
  {
   "cell_type": "markdown",
   "id": "4422898d",
   "metadata": {},
   "source": [
    "Now, I like a good cheese *but* my bank account has strong opinons on this, so, to avoid bankrupcy, I've written a Python program which has scoured the internet for the best prices on some choice cheeses.\n",
    "\n",
    "As the internet is a wild place, I've managed to get prices for all my cheeses but I fear that some are `strings` rather than all being nice `integer` or `floating-point` numbers.\n",
    "\n",
    "What I'd like to do is to iterate over the list in a `for` loop and, for each cheese, perform a check against the price using an `if` statement. \n",
    "\n",
    "If the price is less than £15.00 per kilo I'll be able to buy that and I should probably flag that up printing back both the cheese and the price.\n",
    "\n",
    "If it's is more than £15.00 per kilo I'm not able to buy that and, to avoid depressing myself about the high price of cheese, I should probably flag that up printing back cheese's name but not it's price.\n",
    "\n",
    "Finally, should a cheese cost *exactly* £15.00 per kilo that's right on the edge of affordability - so I'd like to flag up that cheese by printing it's name back with a reminder that I can only pick one of the cheeses in this price bracket!"
   ]
  },
  {
   "cell_type": "code",
   "execution_count": 10,
   "id": "68d9c545",
   "metadata": {},
   "outputs": [
    {
     "name": "stdout",
     "output_type": "stream",
     "text": [
      "I can buy:\n",
      "Jarlsberg\n",
      "At a cost of:\n",
      "11.58\n",
      "---\n",
      "I can buy:\n",
      "Emmental\n",
      "At a cost of:\n",
      "8.0\n",
      "---\n",
      "I can buy:\n",
      "Gruyere\n",
      "But don't go buying too much!\n",
      "---\n",
      "Don't go buying:\n",
      "Raclette\n",
      "---\n",
      "I can buy:\n",
      "Reblochon\n",
      "At a cost of:\n",
      "12.5\n",
      "---\n",
      "Don't go buying:\n",
      "Cantal\n",
      "---\n"
     ]
    }
   ],
   "source": [
    "for key, value in cheeses.items():\n",
    "    if not (isinstance(value, (int, float))):\n",
    "        value = float(value)\n",
    "    if value < 15:\n",
    "        print('I can buy:')\n",
    "        print(key)\n",
    "        print('At a cost of:')\n",
    "        print(value)\n",
    "    elif value == 15:\n",
    "        print('I can buy:')\n",
    "        print(key)\n",
    "        print('But don\\'t go buying too much!')\n",
    "    else:\n",
    "        print('Don\\'t go buying:')\n",
    "        print(key)\n",
    "    print('---')"
   ]
  },
  {
   "cell_type": "code",
   "execution_count": null,
   "id": "4e27eb00",
   "metadata": {},
   "outputs": [],
   "source": []
  },
  {
   "cell_type": "code",
   "execution_count": null,
   "id": "1df1c6b9",
   "metadata": {},
   "outputs": [],
   "source": []
  }
 ],
 "metadata": {
  "kernelspec": {
   "display_name": "Python 3",
   "language": "python",
   "name": "python3"
  },
  "language_info": {
   "codemirror_mode": {
    "name": "ipython",
    "version": 3
   },
   "file_extension": ".py",
   "mimetype": "text/x-python",
   "name": "python",
   "nbconvert_exporter": "python",
   "pygments_lexer": "ipython3",
   "version": "3.8.5"
  }
 },
 "nbformat": 4,
 "nbformat_minor": 5
}

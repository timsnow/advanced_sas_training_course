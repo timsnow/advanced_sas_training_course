{
 "cells": [
  {
   "cell_type": "markdown",
   "id": "4fa1518c",
   "metadata": {},
   "source": [
    "Create a variable with a type of `int` and print confirmation of this to the console:"
   ]
  },
  {
   "cell_type": "code",
   "execution_count": null,
   "id": "febb87c9",
   "metadata": {},
   "outputs": [],
   "source": [
    "integer_variable = 3\n",
    "type(3)"
   ]
  },
  {
   "cell_type": "markdown",
   "id": "eb8fd532",
   "metadata": {},
   "source": [
    "Create a list with 10 elements within it and print the value of one element to the console:"
   ]
  },
  {
   "cell_type": "code",
   "execution_count": null,
   "id": "1abf0325",
   "metadata": {},
   "outputs": [],
   "source": [
    "list_of_things = [0, 1, 2, 3, 4, 5, 6, 7, 8, 9]"
   ]
  },
  {
   "cell_type": "code",
   "execution_count": null,
   "id": "9ba65f73",
   "metadata": {},
   "outputs": [],
   "source": [
    "print(list_of_things[5])"
   ]
  },
  {
   "cell_type": "markdown",
   "id": "055e5142",
   "metadata": {},
   "source": [
    "Using the same list, take a subset (or a downsampled subset) of the information within it and print this to the console:"
   ]
  },
  {
   "cell_type": "code",
   "execution_count": null,
   "id": "ed48db2b",
   "metadata": {},
   "outputs": [],
   "source": [
    "print(list_of_things[3:6])"
   ]
  },
  {
   "cell_type": "markdown",
   "id": "e3d85b8b",
   "metadata": {},
   "source": [
    "Import the `math` library and get help on the `degrees` function:"
   ]
  },
  {
   "cell_type": "code",
   "execution_count": null,
   "id": "f90eb153",
   "metadata": {},
   "outputs": [],
   "source": [
    "from math import degrees"
   ]
  },
  {
   "cell_type": "markdown",
   "id": "df9da33d",
   "metadata": {},
   "source": [
    "Use this function to convert an angle, in radians, to an angle in degrees:"
   ]
  },
  {
   "cell_type": "code",
   "execution_count": null,
   "id": "d10cde11",
   "metadata": {},
   "outputs": [],
   "source": [
    "print(degrees(3.141))"
   ]
  },
  {
   "cell_type": "markdown",
   "id": "22f2e6ca",
   "metadata": {},
   "source": [
    "Create your own function to convert an angle, in degrees, to an angle in radians (keeping in mind that 180 degrees = pi, or 3.141..., radians):"
   ]
  },
  {
   "cell_type": "code",
   "execution_count": null,
   "id": "28fb258b",
   "metadata": {},
   "outputs": [],
   "source": [
    "def degrees_to_radians(angle_in_degrees):\n",
    "    return (3.141 / 180) * angle_in_degrees\n",
    "\n",
    "# or\n",
    "\n",
    "from math import pi\n",
    "\n",
    "def degrees_to_radians(angle_in_degrees):\n",
    "    return (pi / 180) * angle_in_degrees"
   ]
  },
  {
   "cell_type": "markdown",
   "id": "0630eb36",
   "metadata": {},
   "source": [
    "Use a `for` loop to either print, or create a list (for printing), of angular values, in radians, for angles within a range of 0 to 360 degrees. \n",
    "\n",
    "Feel free to address the whole 0-360 degree range, a subset of this range, or a downsampled subset of this range:"
   ]
  },
  {
   "cell_type": "code",
   "execution_count": null,
   "id": "b7d5dba9",
   "metadata": {},
   "outputs": [],
   "source": [
    "for angle_in_degrees in range(0, 361, 3):\n",
    "    print(degrees_to_radians(angle_in_degrees))"
   ]
  },
  {
   "cell_type": "markdown",
   "id": "aabc00d3",
   "metadata": {},
   "source": [
    "Run the below cell to create a dictionary:"
   ]
  },
  {
   "cell_type": "code",
   "execution_count": null,
   "id": "75aa43c1",
   "metadata": {},
   "outputs": [],
   "source": [
    "cheeses = {'Jarlsberg' : '11.58', 'Emmental' : 8.00, 'Gruyere' : '15.00', 'Raclette' : '22.50', 'Reblochon' : 12.50, 'Cantal' : 22.50}"
   ]
  },
  {
   "cell_type": "markdown",
   "id": "4422898d",
   "metadata": {},
   "source": [
    "Now, I like a good cheese *but* my bank account has strong opinons on this, so, to avoid bankrupcy, I've written a Python program which has scoured the internet for the best prices on some choice cheeses.\n",
    "\n",
    "As the internet is a wild place, I've managed to get prices for all my cheeses but I fear that some are `strings` rather than all being nice `integer` or `floating-point` numbers.\n",
    "\n",
    "What I'd like to do is to iterate over the list in a `for` loop and, for each cheese, perform a check against the price using an `if` statement. \n",
    "\n",
    "If the price is less than £15.00 per kilo I'll be able to buy that and I should probably flag that up printing back both the cheese and the price.\n",
    "\n",
    "If it's is more than £15.00 per kilo I'm not able to buy that and, to avoid depressing myself about the high price of cheese, I should probably flag that up printing back cheese's name but not it's price.\n",
    "\n",
    "Finally, should a cheese cost *exactly* £15.00 per kilo that's right on the edge of affordability - so I'd like to flag up that cheese by printing it's name back with a reminder that I can only pick one of the cheeses in this price bracket!"
   ]
  },
  {
   "cell_type": "code",
   "execution_count": null,
   "id": "68d9c545",
   "metadata": {},
   "outputs": [],
   "source": [
    "for key, value in cheeses.items():\n",
    "    if not (isinstance(value, (int, float))):\n",
    "        value = float(value)\n",
    "    if value < 15:\n",
    "        print('I can buy:')\n",
    "        print(key)\n",
    "        print('At a cost of:')\n",
    "        print(value)\n",
    "    elif value == 15:\n",
    "        print('I can buy:')\n",
    "        print(key)\n",
    "        print('But don\\'t go buying too much!')\n",
    "    else:\n",
    "        print('Don\\'t go buying:')\n",
    "        print(key)\n",
    "    print('---')"
   ]
  },
  {
   "cell_type": "code",
   "execution_count": null,
   "id": "4e27eb00",
   "metadata": {},
   "outputs": [],
   "source": []
  },
  {
   "cell_type": "code",
   "execution_count": null,
   "id": "1df1c6b9",
   "metadata": {},
   "outputs": [],
   "source": []
  }
 ],
 "metadata": {
  "kernelspec": {
   "display_name": "Python 3",
   "language": "python",
   "name": "python3"
  },
  "language_info": {
   "codemirror_mode": {
    "name": "ipython",
    "version": 3
   },
   "file_extension": ".py",
   "mimetype": "text/x-python",
   "name": "python",
   "nbconvert_exporter": "python",
   "pygments_lexer": "ipython3",
   "version": "3.8.5"
  }
 },
 "nbformat": 4,
 "nbformat_minor": 5
}

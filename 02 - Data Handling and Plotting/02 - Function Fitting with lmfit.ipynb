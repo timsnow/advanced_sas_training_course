{
 "cells": [
  {
   "cell_type": "markdown",
   "id": "d6b4fc11",
   "metadata": {},
   "source": [
    "# Function Fitting with `lmfit`\n",
    "\n",
    "Now that we have some data inside our program and can visualise it, two key principles remain:\n",
    "\n",
    " - Doing something with the data\n",
    " - Saving results to disk\n",
    " \n",
    "This tutorial is designed to address both of these, in turn using some simulated data and `lmfit` a function fitting package ([LMFIT: Non-Linear Least-Squares Minimization and Curve-Fitting for Python](https://lmfit.github.io/lmfit-py/)).\n",
    "\n",
    "Before fitting any data we need some data - whereas we do have some from the previous tutorial to start with we shall generate some data, add some noise and attempt a fit upon this data in the first instance.\n",
    "\n",
    "To do this we first need an `x_axis` dataset which we shall generate using `numpy`s `linspace()` function ([https://numpy.org/doc/stable/reference/generated/numpy.linspace.html](numpy.linspace)).\n",
    "\n",
    "However, as before, let's set up Colab:"
   ]
  },
  {
   "cell_type": "code",
   "execution_count": null,
   "id": "3a27b018",
   "metadata": {},
   "outputs": [],
   "source": [
    "!pip install h5py\n",
    "!pip install lmfit\n",
    "!pip install numpy\n",
    "!pip install matplotlib\n",
    "\n",
    "!git clone https://github.com/timsnow/advanced_sas_training_course\n",
    "%cd 'advanced_sas_training_course/02 - Data Handling and Plotting'"
   ]
  },
  {
   "cell_type": "markdown",
   "id": "cc7d4350",
   "metadata": {},
   "source": [
    "Now we can start with our code:"
   ]
  },
  {
   "cell_type": "code",
   "execution_count": 1,
   "id": "13acea3c",
   "metadata": {},
   "outputs": [
    {
     "name": "stdout",
     "output_type": "stream",
     "text": [
      "[ 0.         10.01001001 20.02002002 30.03003003 40.04004004 50.05005005\n",
      " 60.06006006 70.07007007 80.08008008 90.09009009]\n"
     ]
    }
   ],
   "source": [
    "import numpy as np\n",
    "\n",
    "x_axis = np.linspace(start = 0, stop = 100, num = 1000)\n",
    "print(x_axis[::100])"
   ]
  },
  {
   "cell_type": "markdown",
   "id": "0ea7137b",
   "metadata": {},
   "source": [
    "As you can see the `linspace` function has provided 1000 linearly spaced points between 0 and 100, as requested.\n",
    "\n",
    "Using these values we are able to create a `y_axis` dataset given a particular function. For this example we shall use a Gaussian function ([Gaussian Function](https://en.wikipedia.org/wiki/Gaussian_function)) which, firstly we will need to define:"
   ]
  },
  {
   "cell_type": "code",
   "execution_count": 2,
   "id": "07c22e5a",
   "metadata": {},
   "outputs": [],
   "source": [
    "def gaussian_function(x_axis, a, b, c):\n",
    "    return a * np.exp(-((x_axis - b)**2 / (2 * c**2)))"
   ]
  },
  {
   "cell_type": "markdown",
   "id": "ce742eda",
   "metadata": {},
   "source": [
    "The input parameters a, b and c correspond to:\n",
    "\n",
    " - a - the height of the curve's peak\n",
    " - b - the position of the center of the peak and \n",
    " - c - the standard deviation, sometimes called the Gaussian RMS width (controls the width of the \"bell\")\n",
    " \n",
    "Using this with our `x_axis` dataset will allow us to create a very neat Gaussian profile:"
   ]
  },
  {
   "cell_type": "code",
   "execution_count": 3,
   "id": "dbed9403",
   "metadata": {},
   "outputs": [
    {
     "data": {
      "image/png": "[encoded data removed]",
      "text/plain": [
       "<Figure size 432x288 with 1 Axes>"
      ]
     },
     "metadata": {
      "needs_background": "light"
     },
     "output_type": "display_data"
    }
   ],
   "source": [
    "import matplotlib.pyplot as plt\n",
    "\n",
    "y_axis = gaussian_function(x_axis, 1, 50, 4)\n",
    "\n",
    "plt.plot(x_axis, y_axis)\n",
    "plt.show()"
   ]
  },
  {
   "cell_type": "markdown",
   "id": "8c442077",
   "metadata": {},
   "source": [
    "However, in real life peaks are never this clean so we shall also add some *noise* to do this, let's create a function that calls our `gaussian_function`:"
   ]
  },
  {
   "cell_type": "code",
   "execution_count": 21,
   "id": "51ff1f12",
   "metadata": {},
   "outputs": [],
   "source": [
    "def noisy_gaussian_function(x_axis, a, b, c, noise_factor):\n",
    "    length_of_x_axis = len(x_axis)\n",
    "    noise_to_add = np.random.randn(length_of_x_axis) * noise_factor\n",
    "    return gaussian_function(x_axis, a, b, c) + noise_to_add"
   ]
  },
  {
   "cell_type": "markdown",
   "id": "66d0e86a",
   "metadata": {},
   "source": [
    "In this function we first determine the length of the incoming `x_array` using `len()` (documentation: [len()](https://docs.python.org/3/library/functions.html#len)) then we generate an array of random numbers, using `numpy`s random number generator `random.randn()` (documentation: [numpy.random.randn](https://numpy.org/doc/stable/reference/random/generated/numpy.random.randn.html)), and then multiplying these values by a factor - so that we can tune the amount of noise.\n",
    "\n",
    "We then take this array of noise and add it to the Gaussian function that we created earlier and:"
   ]
  },
  {
   "cell_type": "code",
   "execution_count": 24,
   "id": "becc40e1",
   "metadata": {
    "scrolled": false
   },
   "outputs": [
    {
     "data": {
      "image/png": "[encoded data removed]",
      "text/plain": [
       "<Figure size 432x288 with 1 Axes>"
      ]
     },
     "metadata": {
      "needs_background": "light"
     },
     "output_type": "display_data"
    }
   ],
   "source": [
    "y_axis = noisy_gaussian_function(x_axis, 1, 50, 4, 0.05)\n",
    "\n",
    "plt.plot(x_axis, y_axis)\n",
    "plt.show()"
   ]
  },
  {
   "cell_type": "markdown",
   "id": "32acb604",
   "metadata": {},
   "source": [
    "Now we have some *noisy* data that we can fit. As we know that we have a Gaussian peak we can *cheat* slightly by using one of `lmfit`s in-built models - the `GaussianModel()` (documentation: [Built-in Fitting Models in lmfit](https://lmfit.github.io/lmfit-py/builtin_models.html))"
   ]
  },
  {
   "cell_type": "code",
   "execution_count": 6,
   "id": "3e6cedbc",
   "metadata": {},
   "outputs": [],
   "source": [
    "from lmfit.models import *\n",
    "\n",
    "gaussian_model = GaussianModel()\n",
    "initial_guesses = gaussian_model.guess(data = y_axis, x = x_axis)\n",
    "gaussian_fit = gaussian_model.fit(data = y_axis, params = initial_guesses, x = x_axis)"
   ]
  },
  {
   "cell_type": "markdown",
   "id": "0ad18400",
   "metadata": {},
   "source": [
    "As can be seen above to use a built-in model, and the `lmfit` standard parameter guessing function, is relatively straightforward. \n",
    "\n",
    "The first thing (after imports) that we do is to *instanciate* a `GaussianModel()` class. This is slightly different from what we've been doing until now as we've been assigning values to variables and calling functions. This assignment is a bit different as we're assigning a Python class to a variable.\n",
    "\n",
    "A class, and it's ability to hold many variables and methods (and sub-variables and sub-methods) is the basis of 'Object Oriented Programming'. Whereas this is a *very* rich topic, this is also a very short course so we shall leave a link to the [Classes page on the Python documentation site here](https://docs.python.org/3/tutorial/classes.html). Using classes isn't essential to Python programming but offer many powerful programming patterns and paradigms to be accessed.\n",
    "\n",
    "For now, just be aware that this variable assignment is a little different as the variable has sub-variables and functions that we can access via use of the 'dot' notation *i.e.* `variable.function()` or `variable.sub_variable`\n",
    "\n",
    "With this in mind we can instanciate a `GaussianModel()` class, ask it to perform a guess of the initial parameters against your data (more on this in a bit) and then ask it to fit the data.\n",
    "\n",
    "Question is... how did it do?"
   ]
  },
  {
   "cell_type": "code",
   "execution_count": 7,
   "id": "f0d104a9",
   "metadata": {},
   "outputs": [
    {
     "data": {
      "image/png": "[encoded data removed]",
      "text/plain": [
       "<Figure size 432x288 with 1 Axes>"
      ]
     },
     "metadata": {
      "needs_background": "light"
     },
     "output_type": "display_data"
    },
    {
     "name": "stdout",
     "output_type": "stream",
     "text": [
      "[[Model]]\n",
      "    Model(gaussian)\n",
      "[[Fit Statistics]]\n",
      "    # fitting method   = leastsq\n",
      "    # function evals   = 21\n",
      "    # data points      = 1000\n",
      "    # variables        = 3\n",
      "    chi-square         = 2.38393677\n",
      "    reduced chi-square = 0.00239111\n",
      "    Akaike info crit   = -6033.00205\n",
      "    Bayesian info crit = -6018.27879\n",
      "[[Variables]]\n",
      "    amplitude:  10.1056593 +/- 0.07170474 (0.71%) (init = 20.58422)\n",
      "    center:     50.0285696 +/- 0.03309927 (0.07%) (init = 50.04702)\n",
      "    sigma:      4.03986119 +/- 0.03309928 (0.82%) (init = 5.305305)\n",
      "    fwhm:       9.51314593 +/- 0.07794284 (0.82%) == '2.3548200*sigma'\n",
      "    height:     0.99794889 +/- 0.00708094 (0.71%) == '0.3989423*amplitude/max(1e-15, sigma)'\n",
      "[[Correlations]] (unreported correlations are < 0.100)\n",
      "    C(amplitude, sigma) =  0.577\n"
     ]
    }
   ],
   "source": [
    "gaussian_fit.plot_fit()\n",
    "plt.show()\n",
    "print(gaussian_fit.fit_report())"
   ]
  },
  {
   "cell_type": "markdown",
   "id": "a7e87b11",
   "metadata": {},
   "source": [
    "Looking at the fit to the data, and also the parameters - it did pretty well:\n",
    "\n",
    " - a = 1 / height = 0.99\n",
    " - b = 50 / center = 49.97\n",
    " - c = 4 / sigma = 4.05\n",
    " \n",
    "It's worth noting that the values obtained above might vary *slightly* to the ones obtained when this is re-run as we're applying **random** noise to the input data. However, rounded to the nearest integer they are spot on their original values.\n",
    "\n",
    "If you require to access the values in code, this can be achieved by retrieving the parameter dictionary from the fitted result which can be found in the `result` function under `params` from here you can then inspect and/or retrieve the fitted values *and* the bounds that might have been applied when fitting that parameter:"
   ]
  },
  {
   "cell_type": "code",
   "execution_count": 8,
   "id": "6809f979",
   "metadata": {},
   "outputs": [
    {
     "name": "stdout",
     "output_type": "stream",
     "text": [
      "Results Dictionary:\n",
      "Parameters([('amplitude', <Parameter 'amplitude', value=10.105659345853017 +/- 0.0717, bounds=[-inf:inf]>), ('center', <Parameter 'center', value=50.028569589064055 +/- 0.0331, bounds=[-inf:inf]>), ('sigma', <Parameter 'sigma', value=4.03986118946735 +/- 0.0331, bounds=[0.0:inf]>), ('fwhm', <Parameter 'fwhm', value=9.513145926181506 +/- 0.0779, bounds=[-inf:inf], expr='2.3548200*sigma'>), ('height', <Parameter 'height', value=0.9979488881851051 +/- 0.00708, bounds=[-inf:inf], expr='0.3989423*amplitude/max(1e-15, sigma)'>)])\n",
      "\n",
      "Fitted Amplitude:\n",
      "10.105659345853017\n"
     ]
    }
   ],
   "source": [
    "result_dictionary = gaussian_fit.result.params\n",
    "print('Results Dictionary:')\n",
    "print(result_dictionary)\n",
    "print('\\nFitted Amplitude:')\n",
    "print(result_dictionary['amplitude'].value)"
   ]
  },
  {
   "cell_type": "markdown",
   "id": "66a20ae9",
   "metadata": {},
   "source": [
    "Which neatly brings us on to setting your own initial guesses *and* limits on the values to fit. Firstly we can call on the model to provide us with a parameter dictionary:"
   ]
  },
  {
   "cell_type": "code",
   "execution_count": 9,
   "id": "3583b43d",
   "metadata": {},
   "outputs": [],
   "source": [
    "new_gaussian_model = GaussianModel()\n",
    "initial_guesses = new_gaussian_model.make_params()"
   ]
  },
  {
   "cell_type": "markdown",
   "id": "de4319d0",
   "metadata": {},
   "source": [
    "We can then have a look at the keys, either programatically or visually (as here):"
   ]
  },
  {
   "cell_type": "code",
   "execution_count": 10,
   "id": "c8500bf6",
   "metadata": {},
   "outputs": [
    {
     "name": "stdout",
     "output_type": "stream",
     "text": [
      "odict_keys(['amplitude', 'center', 'sigma', 'fwhm', 'height'])\n"
     ]
    }
   ],
   "source": [
    "print(initial_guesses.keys())"
   ]
  },
  {
   "cell_type": "markdown",
   "id": "88542273",
   "metadata": {},
   "source": [
    "Next we can set each of these keys using their `value`, `min` and `max` parameters - additionally by setting the `vary` boolean we can specify to `lmfit` whether a parameter should be fitted at all. For our existing dataset let's put in the following:"
   ]
  },
  {
   "cell_type": "code",
   "execution_count": 11,
   "id": "4bd59796",
   "metadata": {},
   "outputs": [],
   "source": [
    "for key in initial_guesses.keys():\n",
    "    initial_guesses[key].min = 0\n",
    "    initial_guesses[key].max = 100\n",
    "\n",
    "initial_guesses['height'].value = 1\n",
    "initial_guesses['center'].value = 50\n",
    "initial_guesses['center'].vary = False"
   ]
  },
  {
   "cell_type": "markdown",
   "id": "fc52fa0d",
   "metadata": {},
   "source": [
    "To start with we've just iterated through all of the parameters and set the bounds to the bound of the dataset - perhaps not the best bound but better than +/- infinity.\n",
    "\n",
    "Secondly we've seeded the height and center parameters with values of 1 and 50, respectively, and fixed the center value as, let's say, we know this up front. Now let's do a fit:"
   ]
  },
  {
   "cell_type": "code",
   "execution_count": 12,
   "id": "8704dd1e",
   "metadata": {},
   "outputs": [
    {
     "data": {
      "image/png": "[encoded data removed]",
      "text/plain": [
       "<Figure size 432x288 with 1 Axes>"
      ]
     },
     "metadata": {
      "needs_background": "light"
     },
     "output_type": "display_data"
    },
    {
     "name": "stdout",
     "output_type": "stream",
     "text": [
      "[[Model]]\n",
      "    Model(gaussian)\n",
      "[[Fit Statistics]]\n",
      "    # fitting method   = leastsq\n",
      "    # function evals   = 19\n",
      "    # data points      = 1000\n",
      "    # variables        = 2\n",
      "    chi-square         = 2.38571818\n",
      "    reduced chi-square = 0.00239050\n",
      "    Akaike info crit   = -6034.25508\n",
      "    Bayesian info crit = -6024.43957\n",
      "[[Variables]]\n",
      "    amplitude:  10.1056035 +/- 0.07169611 (0.71%) (init = 1)\n",
      "    center:     50 (fixed)\n",
      "    sigma:      4.03991758 +/- 0.03309596 (0.82%) (init = 1)\n",
      "    fwhm:       9.51327872 +/- 0.07793502 (0.82%) == '2.3548200*sigma'\n",
      "    height:     0.99792945 +/- 0.00708000 (0.71%) == '0.3989423*amplitude/max(1e-15, sigma)'\n",
      "[[Correlations]] (unreported correlations are < 0.100)\n",
      "    C(amplitude, sigma) =  0.577\n"
     ]
    }
   ],
   "source": [
    "gaussian_fit = new_gaussian_model.fit(data = y_axis, params = initial_guesses, x = x_axis)\n",
    "\n",
    "gaussian_fit.plot_fit()\n",
    "plt.show()\n",
    "print(gaussian_fit.fit_report())"
   ]
  },
  {
   "cell_type": "markdown",
   "id": "021ea842",
   "metadata": {},
   "source": [
    "Note in the parameter printout above it specifies what the starting values were (init = *x*) and, in the case of the center value, that it was fixed at a specific value."
   ]
  },
  {
   "cell_type": "markdown",
   "id": "8b43d08c",
   "metadata": {},
   "source": [
    "For reference here, and more explicitly defined in the documentation here: [built-in models](https://lmfit.github.io/lmfit-py/builtin_models.html), the list of built-in models is:\n",
    "\n",
    " - GaussianModel\n",
    " - LorentzianModel\n",
    " - SplitLorentzianModel\n",
    " - VoigtModel\n",
    " - PseudoVoigtModel\n",
    " - MoffatModel\n",
    " - Pearson7Model\n",
    " - StudentsTModel\n",
    " - BreitWignerModel\n",
    " - LognormalModel\n",
    " - DampedOscillatorModel\n",
    " - DampedHarmonicOscillatorModel\n",
    " - ExponentialGaussianModel\n",
    " - SkewedGaussianModel\n",
    " - SkewedVoigtModel\n",
    " - ThermalDistributionModel\n",
    " - DoniachModel\n",
    " - ConstantModel\n",
    " - LinearModel\n",
    " - QuadraticModel\n",
    " - PolynomialModel\n",
    " - ineModel\n",
    " - StepModel\n",
    " - RectangleModel\n",
    " - ExponentialModel\n",
    " - PowerLawModel\n",
    " - Gaussian2dModel"
   ]
  },
  {
   "cell_type": "markdown",
   "id": "e3b5de04",
   "metadata": {},
   "source": [
    "Finally, we shall cover how to fit your own model using lmfit. Remembering the equation for a Gaussian from before we can create a custom `ExpressionModel` by instanciating an `ExpressionModel` object and providing it with the equation we wish to fit:"
   ]
  },
  {
   "cell_type": "code",
   "execution_count": 13,
   "id": "b217f41d",
   "metadata": {},
   "outputs": [],
   "source": [
    "our_gaussian = ExpressionModel('a * exp(-(x - b)**2 / (2 * c**2))')"
   ]
  },
  {
   "cell_type": "markdown",
   "id": "bf3a9e9c",
   "metadata": {},
   "source": [
    "As you can see there are a number of 'reserved' keywords such as `x` and `exp`, however, you are free to utilise any non-mathematically common function name for your fitting variables - here I have picked `a`, `b` and `c` as in our data simulator class.\n",
    "\n",
    "With that created we can then perform the fit and present the fit in the usual manner, with one *small* exception - the `guess()` function isn't available for custom models.\n",
    "\n",
    "So, we must either call the `make_params()` function to generate a dictionary that we can then modify in the same way as we've just done, or we can explicitly pass to the `fit()` function the initial parameters that the fit should start with:"
   ]
  },
  {
   "cell_type": "code",
   "execution_count": 14,
   "id": "ade07129",
   "metadata": {},
   "outputs": [
    {
     "data": {
      "image/png": "[encoded data removed]",
      "text/plain": [
       "<Figure size 432x288 with 1 Axes>"
      ]
     },
     "metadata": {
      "needs_background": "light"
     },
     "output_type": "display_data"
    },
    {
     "name": "stdout",
     "output_type": "stream",
     "text": [
      "[[Model]]\n",
      "    Model(_eval)\n",
      "[[Fit Statistics]]\n",
      "    # fitting method   = leastsq\n",
      "    # function evals   = 21\n",
      "    # data points      = 1000\n",
      "    # variables        = 3\n",
      "    chi-square         = 2.38393677\n",
      "    reduced chi-square = 0.00239111\n",
      "    Akaike info crit   = -6033.00205\n",
      "    Bayesian info crit = -6018.27879\n",
      "[[Variables]]\n",
      "    a:  0.99794883 +/- 0.00708095 (0.71%) (init = 1)\n",
      "    b:  50.0285696 +/- 0.03309939 (0.07%) (init = 50)\n",
      "    c:  4.03986129 +/- 0.03309939 (0.82%) (init = 1)\n",
      "[[Correlations]] (unreported correlations are < 0.100)\n",
      "    C(a, c) = -0.577\n"
     ]
    }
   ],
   "source": [
    "gaussian_fit = our_gaussian.fit(data = y_axis, x = x_axis, a = 1, b = 50, c = 1)\n",
    "\n",
    "gaussian_fit.plot_fit()\n",
    "plt.show()\n",
    "print(gaussian_fit.fit_report())"
   ]
  },
  {
   "cell_type": "markdown",
   "id": "91f1ce95",
   "metadata": {},
   "source": [
    "As before, this yields a good fit.\n",
    "\n",
    "\n",
    "### Extra Credit\n",
    "\n",
    "As this is a SAS course, you may be interested in the following *small* modification to the `noisy_gaussian_function()` - if we make the amount of noise dependent on the `x_axis` value we end up with noise that scales as you move from lower x-axis values to higher x-axis values, almost like in real SAS data..."
   ]
  },
  {
   "cell_type": "code",
   "execution_count": 28,
   "id": "bf6c1e1e",
   "metadata": {},
   "outputs": [
    {
     "name": "stderr",
     "output_type": "stream",
     "text": [
      "<ipython-input-28-456a6b52aeb8>:3: RuntimeWarning: divide by zero encountered in true_divide\n",
      "  noise_to_add = (np.random.randn(length_of_x_axis) * noise_factor) / (1 / x_axis)\n"
     ]
    },
    {
     "data": {
      "image/png": "[encoded data removed]",
      "text/plain": [
       "<Figure size 432x288 with 1 Axes>"
      ]
     },
     "metadata": {
      "needs_background": "light"
     },
     "output_type": "display_data"
    }
   ],
   "source": [
    "def noisy_gaussian_function(x_axis, a, b, c, noise_factor):\n",
    "    length_of_x_axis = len(x_axis)\n",
    "    noise_to_add = (np.random.randn(length_of_x_axis) * noise_factor) / (1 / x_axis)\n",
    "    return gaussian_function(x_axis, a, b, c) + noise_to_add\n",
    "\n",
    "y_axis = noisy_gaussian_function(x_axis, 1, 50, 4, 0.0005)\n",
    "\n",
    "plt.plot(x_axis, y_axis)\n",
    "plt.show()"
   ]
  },
  {
   "cell_type": "markdown",
   "id": "10f469fc",
   "metadata": {},
   "source": [
    "## Saving Data\n",
    "\n",
    "Now we have some data, we're going to need to store it somewhere, using `print()` to show what's going on in a notebook such as this is fine for small scale operations but extracting the parameters of use to put into aggregated results tables / databases / papers will quickly become a pain if you're relying on copy-and-paste (or, just typing in the results obtained into another location!).\n",
    "\n",
    "However, before we go through the basics of how we can save data in a couple of different ways it is **vitally** important to note that the level of access this will give you to files on your computer is *vastly* different from what you might be used to.\n",
    "\n",
    "Editing a file to make it unreadable, overwriting a file or simply outputting random \"stuff\" into a file (pre-existing or not) are all very possible and ***not at all*** difficult to achieve and there's no easy 'undo' feature here.\n",
    "\n",
    "Therefore, to start with, we shall go over a few things that can help you safeguard against the most common routes towards potential accidents *however* it is always advised that you keep regular backups of your data just in case (and, to be honest, just in case a lot of other potential fatal scenarios - I'm talking about your 'sparky' relationship laptop keyboard and coffee...)\n",
    "\n",
    "### Do things already exist?\n",
    "\n",
    "The most basic check we can do is to see whether something already exists, this will stop us editing or overwriting a file that's already there. \n",
    "\n",
    "In the most blunt fashion we can achieve this by use of the `pathlib` library (documentation: [pathlib](https://docs.python.org/3/library/pathlib.html)) and doing a quick check on the file path we're about to write to and if it exists using Python's `exit()` function to halt the program:"
   ]
  },
  {
   "cell_type": "code",
   "execution_count": 2,
   "id": "6b044e39",
   "metadata": {},
   "outputs": [
    {
     "name": "stdout",
     "output_type": "stream",
     "text": [
      "Ack! There's a file here already! Exiting here.\n"
     ]
    }
   ],
   "source": [
    "from pathlib import Path\n",
    "\n",
    "input_path = 'data/i22-363110.dat'\n",
    "\n",
    "if Path(input_path).exists():\n",
    "    print(\"Ack! There's a file here already! Exiting here.\")\n",
    "    exit()"
   ]
  },
  {
   "cell_type": "markdown",
   "id": "9e507ed8",
   "metadata": {},
   "source": [
    "Naturally, if we need a file to exist so that we can open it and append something to it (or modify it in some way) one could apply the opposing logic:"
   ]
  },
  {
   "cell_type": "code",
   "execution_count": 2,
   "id": "23b91435",
   "metadata": {},
   "outputs": [
    {
     "name": "stdout",
     "output_type": "stream",
     "text": [
      "Let's do something with this file!\n"
     ]
    }
   ],
   "source": [
    "from pathlib import Path\n",
    "\n",
    "input_path = 'data/i22-363110.dat'\n",
    "\n",
    "if not (Path(input_path).exists()):\n",
    "    print(\"Ack! There's not a file here already! Exiting here.\")\n",
    "    exit()\n",
    "\n",
    "print(\"Let's do something with this file!\")"
   ]
  },
  {
   "cell_type": "markdown",
   "id": "8cbb2dcc",
   "metadata": {},
   "source": [
    "Building on this theme there are many checks and potential file path alterations, to provide a unique filename, that one could do 'on the fly' to keep the program going, however, general experience highlights this as being the most effective way to stave off problems.\n",
    "\n",
    "In essence, if you're not expecting to hit this error and you do either: you've missed something, something in your code is either playing up or you don't understand what your program is doing. \n",
    "\n",
    "In any scenario - it's time to do some thinking, debugging and then come back before continuing."
   ]
  },
  {
   "cell_type": "markdown",
   "id": "0acc1a7d",
   "metadata": {},
   "source": [
    "Thinking back to file 'modes', when opening a file for writing there are three options:\n",
    "\n",
    " - 'w' - Open a file for writing, will overwrite an existing file\n",
    " - 'a' - Open a file for appending data\n",
    " - 'r+' - Open a file for reading and/or writing\n",
    " \n",
    "These can be used with the Python `open()` function (documentation: [Built-in Functions](https://docs.python.org/3/library/functions.html#open) like so:"
   ]
  },
  {
   "cell_type": "code",
   "execution_count": null,
   "id": "b84b6e8b",
   "metadata": {},
   "outputs": [],
   "source": [
    "file_handle = open('data/new_file.txt', 'w')"
   ]
  },
  {
   "cell_type": "markdown",
   "id": "d9181ba9",
   "metadata": {},
   "source": [
    "At this point we can write data into the file using the file handle's `write()` function and, once we're finished, close the file using the `close()` function. A simple example of this could be:"
   ]
  },
  {
   "cell_type": "code",
   "execution_count": null,
   "id": "b7bb2a68",
   "metadata": {},
   "outputs": [],
   "source": [
    "file_handle = open('data/new_file.txt', 'w')\n",
    "file_handle.write('Something to store to disk.')\n",
    "file_handle.close()"
   ]
  },
  {
   "cell_type": "markdown",
   "id": "63fdfc00",
   "metadata": {},
   "source": [
    "This pattern of `open`, `write` and `close` forms the basis of file writing in almost any programming language and Python is no exception.\n",
    "\n",
    "One can invisage using loops to write out multiple lines of data and variable concatenation in order to build up long strings, or binary, before using the `write()` function, however, as with file loading - a number of routines already exist to handle this for you.\n",
    "\n",
    "Both `h5py` and `numpy` have routines for saving data as binary or, in the case of `numpy`, text. \n",
    "\n",
    "`numpy` has two common rountines for data saving, `numpy.save()` and `numpy.savetxt()`. `save()` takes an array as input and saves it in a '.npy' file in such a way that it can be loaded back into Python by calling `numpy.load()` - it is a binary format and it's internal structure is custom: [numpy.save](https://numpy.org/doc/stable/reference/generated/numpy.save.html).\n",
    "\n",
    "`savetxt()` behaves a lot like `loadtxt()` but, naturally, works in reverse, as it shown on the documentation for [numpy.savetxt](https://numpy.org/doc/stable/reference/generated/numpy.savetxt.html) the syntax is as follows:"
   ]
  },
  {
   "cell_type": "code",
   "execution_count": null,
   "id": "976cd761",
   "metadata": {},
   "outputs": [],
   "source": [
    "numpy.savetxt(file_path, array, delimiter='\\t', newline='\\n', header='', footer='', comments='# ')"
   ]
  },
  {
   "cell_type": "markdown",
   "id": "af954b5a",
   "metadata": {},
   "source": [
    "Using the above would create a text file with results in a tab-delimited text format.\n",
    "\n",
    "\n",
    "Finally, using `h5py` it is possible to output a file that contains *data* by which I mean arrays, strings, variables, *etc.* in a binary format. "
   ]
  },
  {
   "cell_type": "code",
   "execution_count": null,
   "id": "ad04fc70",
   "metadata": {},
   "outputs": [],
   "source": [
    "file_handle = h5py.File('data/new_file.txt', 'w')\n",
    "file_handle['/internal/data/path/string'] = 'Something to store to disk.'\n",
    "file_handle['/internal/data/path/variable'] = variable_to_store\n",
    "file_handle['/internal/data/path/numpy_array'] = np.zeros((100, 100))\n",
    "file_handle.close()"
   ]
  },
  {
   "cell_type": "markdown",
   "id": "cfb25c80",
   "metadata": {},
   "source": [
    "This is one of the more flexible ways to save data, however, unlike a text file, can only be read by programs that can read HDF5/NeXus files."
   ]
  },
  {
   "cell_type": "markdown",
   "id": "2497d16f",
   "metadata": {},
   "source": [
    "### Further reading\n",
    "\n",
    "When writing lots of data, or if you're writing small amounts of data over a long time and *need* it to be literally 'on disk' at that point in time you should look at the `.flush()` routine: [io routines - flush()](https://docs.python.org/3/library/io.html#io.IOBase.flush)"
   ]
  }
 ],
 "metadata": {
  "kernelspec": {
   "display_name": "Python 3",
   "language": "python",
   "name": "python3"
  },
  "language_info": {
   "codemirror_mode": {
    "name": "ipython",
    "version": 3
   },
   "file_extension": ".py",
   "mimetype": "text/x-python",
   "name": "python",
   "nbconvert_exporter": "python",
   "pygments_lexer": "ipython3",
   "version": "3.8.5"
  }
 },
 "nbformat": 4,
 "nbformat_minor": 5
}
